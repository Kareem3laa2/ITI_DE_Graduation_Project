{
 "cells": [
  {
   "cell_type": "code",
   "execution_count": 13,
   "id": "cc3ebc02",
   "metadata": {},
   "outputs": [],
   "source": [
    "from pyspark.sql import SparkSession\n",
    "from pyspark.sql.functions import *"
   ]
  },
  {
   "cell_type": "code",
   "execution_count": 14,
   "id": "8aa09e01",
   "metadata": {},
   "outputs": [],
   "source": [
    "spark = SparkSession.builder\\\n",
    "         .appName(\"ExplorationAndPrepration\")\\\n",
    "         .master(\"spark://spark-master:7077\")\\\n",
    "         .getOrCreate()"
   ]
  },
  {
   "cell_type": "code",
   "execution_count": 15,
   "id": "7816700e",
   "metadata": {},
   "outputs": [],
   "source": [
    "from pyspark.sql.types import StructType, StructField, StringType, IntegerType, DoubleType\n",
    "\n",
    "schema = StructType([\n",
    "    StructField(\"borough\", StringType(), True),\n",
    "    StructField(\"neighborhood\", StringType(), True),\n",
    "    StructField(\"building_class_category\", StringType(), True),\n",
    "    StructField(\"tax_class_at_present\", StringType(), True),\n",
    "    StructField(\"block\", StringType(), True),\n",
    "    StructField(\"lot\", StringType(), True),\n",
    "    StructField(\"ease_ment\", StringType(), True),\n",
    "    StructField(\"building_class_at_present\", StringType(), True),\n",
    "    StructField(\"address\", StringType(), True),\n",
    "    StructField(\"apartment_number\", StringType(), True),\n",
    "    StructField(\"zip_code\", StringType(), True),\n",
    "    StructField(\"residential_units\", StringType(), True),\n",
    "    StructField(\"commercial_units\", StringType(), True),\n",
    "    StructField(\"total_units\", StringType(), True),\n",
    "    StructField(\"land_square_feet\", DoubleType(), True),  # will clean later\n",
    "    StructField(\"gross_square_feet\", DoubleType(), True),\n",
    "    StructField(\"year_built\", StringType(), True),\n",
    "    StructField(\"tax_class_at_time_of_sale\", StringType(), True),\n",
    "    StructField(\"building_class_at_time_of_sale\", StringType(), True),\n",
    "    StructField(\"sale_price\", DoubleType(), True),         # will convert to numeric\n",
    "    StructField(\"sale_date\", StringType(), True)           # will parse to date\n",
    "])\n"
   ]
  },
  {
   "cell_type": "code",
   "execution_count": 16,
   "id": "a92ea15e",
   "metadata": {},
   "outputs": [],
   "source": [
    "df = (\n",
    "    spark.read.option(\"header\", True)\n",
    "               .csv([\"hdfs://namenode:8020/data/bronze/2022\", \"hdfs://namenode:8020/data/bronze/2023\", \"hdfs://namenode:8020/data/bronze/2024\"],schema = schema)\n",
    "               .drop(\"apartment_number\", \"easement\")\n",
    ")"
   ]
  },
  {
   "cell_type": "code",
   "execution_count": 17,
   "id": "3c935e50",
   "metadata": {},
   "outputs": [],
   "source": [
    "columns_to_cast = [\"zip_code\", \"block\", \"lot\", \"residential_units\", \"commercial_units\",\"year_built\",\"tax_class_at_time_of_sale\"]\n",
    "\n",
    "for col_name in columns_to_cast:\n",
    "    df = df.withColumn(\n",
    "        col_name,\n",
    "        regexp_replace(col(col_name), r\"\\.0$\", \"\").cast(\"int\")\n",
    "    )\n"
   ]
  },
  {
   "cell_type": "code",
   "execution_count": 18,
   "id": "7abbffd5",
   "metadata": {},
   "outputs": [
    {
     "ename": "KeyboardInterrupt",
     "evalue": "",
     "output_type": "error",
     "traceback": [
      "\u001b[0;31m---------------------------------------------------------------------------\u001b[0m",
      "\u001b[0;31mKeyboardInterrupt\u001b[0m                         Traceback (most recent call last)",
      "\u001b[0;32m<ipython-input-18-3c9a60fd698f>\u001b[0m in \u001b[0;36m<module>\u001b[0;34m\u001b[0m\n\u001b[0;32m----> 1\u001b[0;31m \u001b[0mdf\u001b[0m\u001b[0;34m.\u001b[0m\u001b[0mcount\u001b[0m\u001b[0;34m(\u001b[0m\u001b[0;34m)\u001b[0m\u001b[0;34m\u001b[0m\u001b[0;34m\u001b[0m\u001b[0m\n\u001b[0m",
      "\u001b[0;32m/usr/local/spark/python/pyspark/sql/dataframe.py\u001b[0m in \u001b[0;36mcount\u001b[0;34m(self)\u001b[0m\n\u001b[1;32m    662\u001b[0m         \u001b[0;36m2\u001b[0m\u001b[0;34m\u001b[0m\u001b[0;34m\u001b[0m\u001b[0m\n\u001b[1;32m    663\u001b[0m         \"\"\"\n\u001b[0;32m--> 664\u001b[0;31m         \u001b[0;32mreturn\u001b[0m \u001b[0mint\u001b[0m\u001b[0;34m(\u001b[0m\u001b[0mself\u001b[0m\u001b[0;34m.\u001b[0m\u001b[0m_jdf\u001b[0m\u001b[0;34m.\u001b[0m\u001b[0mcount\u001b[0m\u001b[0;34m(\u001b[0m\u001b[0;34m)\u001b[0m\u001b[0;34m)\u001b[0m\u001b[0;34m\u001b[0m\u001b[0;34m\u001b[0m\u001b[0m\n\u001b[0m\u001b[1;32m    665\u001b[0m \u001b[0;34m\u001b[0m\u001b[0m\n\u001b[1;32m    666\u001b[0m     \u001b[0;32mdef\u001b[0m \u001b[0mcollect\u001b[0m\u001b[0;34m(\u001b[0m\u001b[0mself\u001b[0m\u001b[0;34m)\u001b[0m\u001b[0;34m:\u001b[0m\u001b[0;34m\u001b[0m\u001b[0;34m\u001b[0m\u001b[0m\n",
      "\u001b[0;32m/usr/local/spark/python/lib/py4j-0.10.9-src.zip/py4j/java_gateway.py\u001b[0m in \u001b[0;36m__call__\u001b[0;34m(self, *args)\u001b[0m\n\u001b[1;32m   1301\u001b[0m             \u001b[0mproto\u001b[0m\u001b[0;34m.\u001b[0m\u001b[0mEND_COMMAND_PART\u001b[0m\u001b[0;34m\u001b[0m\u001b[0;34m\u001b[0m\u001b[0m\n\u001b[1;32m   1302\u001b[0m \u001b[0;34m\u001b[0m\u001b[0m\n\u001b[0;32m-> 1303\u001b[0;31m         \u001b[0manswer\u001b[0m \u001b[0;34m=\u001b[0m \u001b[0mself\u001b[0m\u001b[0;34m.\u001b[0m\u001b[0mgateway_client\u001b[0m\u001b[0;34m.\u001b[0m\u001b[0msend_command\u001b[0m\u001b[0;34m(\u001b[0m\u001b[0mcommand\u001b[0m\u001b[0;34m)\u001b[0m\u001b[0;34m\u001b[0m\u001b[0;34m\u001b[0m\u001b[0m\n\u001b[0m\u001b[1;32m   1304\u001b[0m         return_value = get_return_value(\n\u001b[1;32m   1305\u001b[0m             answer, self.gateway_client, self.target_id, self.name)\n",
      "\u001b[0;32m/usr/local/spark/python/lib/py4j-0.10.9-src.zip/py4j/java_gateway.py\u001b[0m in \u001b[0;36msend_command\u001b[0;34m(self, command, retry, binary)\u001b[0m\n\u001b[1;32m   1031\u001b[0m         \u001b[0mconnection\u001b[0m \u001b[0;34m=\u001b[0m \u001b[0mself\u001b[0m\u001b[0;34m.\u001b[0m\u001b[0m_get_connection\u001b[0m\u001b[0;34m(\u001b[0m\u001b[0;34m)\u001b[0m\u001b[0;34m\u001b[0m\u001b[0;34m\u001b[0m\u001b[0m\n\u001b[1;32m   1032\u001b[0m         \u001b[0;32mtry\u001b[0m\u001b[0;34m:\u001b[0m\u001b[0;34m\u001b[0m\u001b[0;34m\u001b[0m\u001b[0m\n\u001b[0;32m-> 1033\u001b[0;31m             \u001b[0mresponse\u001b[0m \u001b[0;34m=\u001b[0m \u001b[0mconnection\u001b[0m\u001b[0;34m.\u001b[0m\u001b[0msend_command\u001b[0m\u001b[0;34m(\u001b[0m\u001b[0mcommand\u001b[0m\u001b[0;34m)\u001b[0m\u001b[0;34m\u001b[0m\u001b[0;34m\u001b[0m\u001b[0m\n\u001b[0m\u001b[1;32m   1034\u001b[0m             \u001b[0;32mif\u001b[0m \u001b[0mbinary\u001b[0m\u001b[0;34m:\u001b[0m\u001b[0;34m\u001b[0m\u001b[0;34m\u001b[0m\u001b[0m\n\u001b[1;32m   1035\u001b[0m                 \u001b[0;32mreturn\u001b[0m \u001b[0mresponse\u001b[0m\u001b[0;34m,\u001b[0m \u001b[0mself\u001b[0m\u001b[0;34m.\u001b[0m\u001b[0m_create_connection_guard\u001b[0m\u001b[0;34m(\u001b[0m\u001b[0mconnection\u001b[0m\u001b[0;34m)\u001b[0m\u001b[0;34m\u001b[0m\u001b[0;34m\u001b[0m\u001b[0m\n",
      "\u001b[0;32m/usr/local/spark/python/lib/py4j-0.10.9-src.zip/py4j/java_gateway.py\u001b[0m in \u001b[0;36msend_command\u001b[0;34m(self, command)\u001b[0m\n\u001b[1;32m   1198\u001b[0m \u001b[0;34m\u001b[0m\u001b[0m\n\u001b[1;32m   1199\u001b[0m         \u001b[0;32mtry\u001b[0m\u001b[0;34m:\u001b[0m\u001b[0;34m\u001b[0m\u001b[0;34m\u001b[0m\u001b[0m\n\u001b[0;32m-> 1200\u001b[0;31m             \u001b[0manswer\u001b[0m \u001b[0;34m=\u001b[0m \u001b[0msmart_decode\u001b[0m\u001b[0;34m(\u001b[0m\u001b[0mself\u001b[0m\u001b[0;34m.\u001b[0m\u001b[0mstream\u001b[0m\u001b[0;34m.\u001b[0m\u001b[0mreadline\u001b[0m\u001b[0;34m(\u001b[0m\u001b[0;34m)\u001b[0m\u001b[0;34m[\u001b[0m\u001b[0;34m:\u001b[0m\u001b[0;34m-\u001b[0m\u001b[0;36m1\u001b[0m\u001b[0;34m]\u001b[0m\u001b[0;34m)\u001b[0m\u001b[0;34m\u001b[0m\u001b[0;34m\u001b[0m\u001b[0m\n\u001b[0m\u001b[1;32m   1201\u001b[0m             \u001b[0mlogger\u001b[0m\u001b[0;34m.\u001b[0m\u001b[0mdebug\u001b[0m\u001b[0;34m(\u001b[0m\u001b[0;34m\"Answer received: {0}\"\u001b[0m\u001b[0;34m.\u001b[0m\u001b[0mformat\u001b[0m\u001b[0;34m(\u001b[0m\u001b[0manswer\u001b[0m\u001b[0;34m)\u001b[0m\u001b[0;34m)\u001b[0m\u001b[0;34m\u001b[0m\u001b[0;34m\u001b[0m\u001b[0m\n\u001b[1;32m   1202\u001b[0m             \u001b[0;32mif\u001b[0m \u001b[0manswer\u001b[0m\u001b[0;34m.\u001b[0m\u001b[0mstartswith\u001b[0m\u001b[0;34m(\u001b[0m\u001b[0mproto\u001b[0m\u001b[0;34m.\u001b[0m\u001b[0mRETURN_MESSAGE\u001b[0m\u001b[0;34m)\u001b[0m\u001b[0;34m:\u001b[0m\u001b[0;34m\u001b[0m\u001b[0;34m\u001b[0m\u001b[0m\n",
      "\u001b[0;32m/opt/conda/lib/python3.9/socket.py\u001b[0m in \u001b[0;36mreadinto\u001b[0;34m(self, b)\u001b[0m\n\u001b[1;32m    702\u001b[0m         \u001b[0;32mwhile\u001b[0m \u001b[0;32mTrue\u001b[0m\u001b[0;34m:\u001b[0m\u001b[0;34m\u001b[0m\u001b[0;34m\u001b[0m\u001b[0m\n\u001b[1;32m    703\u001b[0m             \u001b[0;32mtry\u001b[0m\u001b[0;34m:\u001b[0m\u001b[0;34m\u001b[0m\u001b[0;34m\u001b[0m\u001b[0m\n\u001b[0;32m--> 704\u001b[0;31m                 \u001b[0;32mreturn\u001b[0m \u001b[0mself\u001b[0m\u001b[0;34m.\u001b[0m\u001b[0m_sock\u001b[0m\u001b[0;34m.\u001b[0m\u001b[0mrecv_into\u001b[0m\u001b[0;34m(\u001b[0m\u001b[0mb\u001b[0m\u001b[0;34m)\u001b[0m\u001b[0;34m\u001b[0m\u001b[0;34m\u001b[0m\u001b[0m\n\u001b[0m\u001b[1;32m    705\u001b[0m             \u001b[0;32mexcept\u001b[0m \u001b[0mtimeout\u001b[0m\u001b[0;34m:\u001b[0m\u001b[0;34m\u001b[0m\u001b[0;34m\u001b[0m\u001b[0m\n\u001b[1;32m    706\u001b[0m                 \u001b[0mself\u001b[0m\u001b[0;34m.\u001b[0m\u001b[0m_timeout_occurred\u001b[0m \u001b[0;34m=\u001b[0m \u001b[0;32mTrue\u001b[0m\u001b[0;34m\u001b[0m\u001b[0;34m\u001b[0m\u001b[0m\n",
      "\u001b[0;31mKeyboardInterrupt\u001b[0m: "
     ]
    }
   ],
   "source": [
    "df.count()"
   ]
  },
  {
   "cell_type": "code",
   "execution_count": null,
   "id": "61507eab",
   "metadata": {},
   "outputs": [],
   "source": [
    "null_count = df.select([count(when(col(c).isNull(), c)).alias(c) for c in df.columns])"
   ]
  },
  {
   "cell_type": "code",
   "execution_count": null,
   "id": "4e9608c7",
   "metadata": {},
   "outputs": [
    {
     "name": "stdout",
     "output_type": "stream",
     "text": [
      "+-------+------------+-----------------------+--------------------+-----+---+-------------------------+-------+--------+-----------------+----------------+-----------+----------------+-----------------+----------+-------------------------+------------------------------+----------+---------+\n",
      "|borough|neighborhood|building_class_category|tax_class_at_present|block|lot|building_class_at_present|address|zip_code|residential_units|commercial_units|total_units|land_square_feet|gross_square_feet|year_built|tax_class_at_time_of_sale|building_class_at_time_of_sale|sale_price|sale_date|\n",
      "+-------+------------+-----------------------+--------------------+-----+---+-------------------------+-------+--------+-----------------+----------------+-----------+----------------+-----------------+----------+-------------------------+------------------------------+----------+---------+\n",
      "|      0|           0|                      0|                 112|    0|  0|                      112|      0|      22|            60595|          105020|      52497|          113118|           113118|     16456|                        1|                             1|         1|        1|\n",
      "+-------+------------+-----------------------+--------------------+-----+---+-------------------------+-------+--------+-----------------+----------------+-----------+----------------+-----------------+----------+-------------------------+------------------------------+----------+---------+\n",
      "\n"
     ]
    }
   ],
   "source": [
    "null_count.show()"
   ]
  },
  {
   "cell_type": "markdown",
   "id": "03d75ef6",
   "metadata": {},
   "source": [
    "`tax_class_category` & `tax_class_at_present` : Drop rows (They show in a small portion in the data)\n"
   ]
  },
  {
   "cell_type": "code",
   "execution_count": null,
   "id": "3d5a6515",
   "metadata": {},
   "outputs": [
    {
     "name": "stdout",
     "output_type": "stream",
     "text": [
      "+-------+------------------+-----------------------+--------------------+-----+----+-------------------------+--------------------+--------+-----------------+----------------+-----------+----------------+-----------------+----------+-------------------------+------------------------------+----------+----------+\n",
      "|borough|      neighborhood|building_class_category|tax_class_at_present|block| lot|building_class_at_present|             address|zip_code|residential_units|commercial_units|total_units|land_square_feet|gross_square_feet|year_built|tax_class_at_time_of_sale|building_class_at_time_of_sale|sale_price| sale_date|\n",
      "+-------+------------------+-----------------------+--------------------+-----+----+-------------------------+--------------------+--------+-----------------+----------------+-----------+----------------+-----------------+----------+-------------------------+------------------------------+----------+----------+\n",
      "|    4.0|AIRPORT LA GUARDIA|   12 CONDOS - WALKU...|                   2|  949|1017|                       R2|19-17 80TH STREET, 1|   11370|                1|            null|        1.0|            null|             null|      null|                        2|                            R2|  335000.0|2022-11-09|\n",
      "|    4.0|AIRPORT LA GUARDIA|   12 CONDOS - WALKU...|                   2|  949|1022|                       R2|19-13 80TH STREET, 2|   11370|                1|            null|        1.0|            null|             null|      null|                        2|                            R2|  630000.0|2022-07-26|\n",
      "|    4.0|           ARVERNE|   05 TAX CLASS 1 VA...|                  1B|15830|   4|                       V0|40-08 ROCKAWAY BE...|   11691|                0|               0|        0.0|          1517.0|              0.0|      null|                        1|                            V0|    3000.0|2022-02-03|\n",
      "|    4.0|           ARVERNE|   05 TAX CLASS 1 VA...|                  1B|15910|  53|                       V0|339 BEACH 65TH ST...|   11692|                0|               0|        0.0|          1849.0|              0.0|      null|                        1|                            V0|  100000.0|2022-09-07|\n",
      "|    4.0|           ARVERNE|   05 TAX CLASS 1 VA...|                  1B|15972|   3|                       V0| N/A BEACH 48 STREET|   11691|                0|               0|        0.0|          3804.0|              0.0|      null|                        1|                            V0|   40000.0|2022-06-06|\n",
      "|    4.0|           ARVERNE|   05 TAX CLASS 1 VA...|                  1B|16062|   4|                       V0|N/A HILLMEYER AVENUE|   11692|                0|               0|        0.0|           500.0|              0.0|      null|                        1|                            V0|    7500.0|2022-02-23|\n",
      "|    4.0|           ARVERNE|   05 TAX CLASS 1 VA...|                  1B|16062|   5|                       V0|N/A HILLMEYER AVENUE|   11692|                0|               0|        0.0|          2000.0|              0.0|      null|                        1|                            V0|    7500.0|2022-02-23|\n",
      "|    4.0|           ARVERNE|   05 TAX CLASS 1 VA...|                  1B|16062|   6|                       V0|N/A HILLMEYER AVENUE|   11692|                0|               0|        0.0|          2000.0|              0.0|      null|                        1|                            V0|    7500.0|2022-02-23|\n",
      "|    4.0|           ARVERNE|   29 COMMERCIAL GAR...|                   4|15890|  84|                       G7| N/A BEACH 53 STREET|   11691|                0|               0|        0.0|          9999.0|              0.0|      null|                        4|                            G7|  472000.0|2022-09-22|\n",
      "|    4.0|           ARVERNE|   29 COMMERCIAL GAR...|                   4|16013|   1|                       G7|N/A BEACH CHANNEL...|    null|                0|               0|        0.0|         32938.0|              0.0|      null|                        4|                            G7| 4000000.0|2022-07-18|\n",
      "|    4.0|           ARVERNE|   31 COMMERCIAL VAC...|                   4|15825|   7|                       V1|N/A BEACH CHANNEL...|   11691|                0|               0|        0.0|         37490.0|              0.0|      null|                        4|                            V1|       2.0|2022-12-23|\n",
      "|    4.0|           ARVERNE|   31 COMMERCIAL VAC...|                   4|16038|  68|                       V1|64-04 BEACH CHANN...|   11692|                0|               0|        0.0|          4382.0|              0.0|      null|                        4|                            V1| 2555000.0|2022-12-05|\n",
      "|    4.0|           ASTORIA|   05 TAX CLASS 1 VA...|                  1B|  536| 141|                       V0|     N/A 21ST STREET|   11102|                0|               0|        0.0|           425.0|              0.0|      null|                        1|                            V0| 1325000.0|2022-12-16|\n",
      "|    4.0|           ASTORIA|   05 TAX CLASS 1 VA...|                  1B|  549|  16|                       V0|   30-09 21ST STREET|   11102|                0|               0|        0.0|          2000.0|              0.0|      null|                        1|                            V0| 1400000.0|2022-11-02|\n",
      "|    4.0|           ASTORIA|   05 TAX CLASS 1 VA...|                  1B|  659| 157|                       V0|     N/A 37TH STREET|   11103|                0|               0|        0.0|           614.0|              0.0|      null|                        1|                            V0| 1155000.0|2022-11-22|\n",
      "|    4.0|           ASTORIA|   05 TAX CLASS 1 VA...|                  1B|  716| 131|                       V0|     N/A 45TH STREET|   11103|                0|               0|        0.0|           499.0|              0.0|      null|                        1|                            V0|  695000.0|2022-07-15|\n",
      "|    4.0|           ASTORIA|   05 TAX CLASS 1 VA...|                  1B|  896| 211|                       V0| N/A SHORE BOULEVARD|   11105|                0|               0|        0.0|          2000.0|              0.0|      null|                        1|                            V0| 4500000.0|2022-03-02|\n",
      "|    4.0|           ASTORIA|   05 TAX CLASS 1 VA...|                  1B|  896| 212|                       V0| N/A SHORE BOULEVARD|   11105|                0|               0|        0.0|          2000.0|              0.0|      null|                        1|                            V0| 4500000.0|2022-03-02|\n",
      "|    4.0|           ASTORIA|   05 TAX CLASS 1 VA...|                  1B|  896| 213|                       V0| N/A SHORE BOULEVARD|   11105|                0|               0|        0.0|          4000.0|              0.0|      null|                        1|                            V0| 4500000.0|2022-03-02|\n",
      "|    4.0|           ASTORIA|   05 TAX CLASS 1 VA...|                  1B|  901|  21|                       V0|   26-25 14TH STREET|   11102|                0|               0|        0.0|          5490.0|              0.0|      null|                        1|                            V0|       0.0|2022-04-21|\n",
      "+-------+------------------+-----------------------+--------------------+-----+----+-------------------------+--------------------+--------+-----------------+----------------+-----------+----------------+-----------------+----------+-------------------------+------------------------------+----------+----------+\n",
      "only showing top 20 rows\n",
      "\n"
     ]
    }
   ],
   "source": [
    "df.filter(col(\"year_built\").isNull()).show()"
   ]
  },
  {
   "cell_type": "code",
   "execution_count": null,
   "id": "d6484e0a",
   "metadata": {},
   "outputs": [],
   "source": [
    "df = df.withColumn(\n",
    "    \"total_units\",\n",
    "    coalesce(col(\"residential_units\"), lit(0)) + coalesce(col(\"commercial_units\"), lit(0))\n",
    ")"
   ]
  },
  {
   "cell_type": "code",
   "execution_count": null,
   "id": "629e4af6",
   "metadata": {},
   "outputs": [
    {
     "name": "stdout",
     "output_type": "stream",
     "text": [
      "+-----------+\n",
      "|total_units|\n",
      "+-----------+\n",
      "|          0|\n",
      "+-----------+\n",
      "\n"
     ]
    }
   ],
   "source": [
    "df.select(count(when(col(\"total_units\").isNull(), \"total_units\")).alias(\"total_units\")).show()"
   ]
  },
  {
   "cell_type": "code",
   "execution_count": null,
   "id": "356b03b1",
   "metadata": {},
   "outputs": [
    {
     "name": "stdout",
     "output_type": "stream",
     "text": [
      "+-------+------------------+-----------------------+--------------------+-----+----+-------------------------+--------------------+--------+-----------------+----------------+-----------+----------------+-----------------+----------+-------------------------+------------------------------+----------+----------+\n",
      "|borough|      neighborhood|building_class_category|tax_class_at_present|block| lot|building_class_at_present|             address|zip_code|residential_units|commercial_units|total_units|land_square_feet|gross_square_feet|year_built|tax_class_at_time_of_sale|building_class_at_time_of_sale|sale_price| sale_date|\n",
      "+-------+------------------+-----------------------+--------------------+-----+----+-------------------------+--------------------+--------+-----------------+----------------+-----------+----------------+-----------------+----------+-------------------------+------------------------------+----------+----------+\n",
      "|    4.0|    FLUSHING-NORTH|   13 CONDOS - ELEVA...|                null| 5375|1219|                     null|42-29 PARSONS BOU...|   11355|                1|            null|          1|            null|             null|      2014|                        2|                            R4|  425880.0|2022-05-25|\n",
      "|    4.0|  LONG ISLAND CITY|   28 COMMERCIAL CONDOS|                null|  447|1001|                     null|11-05 44TH DRIVE,...|   11101|             null|               1|          1|            null|             null|      1931|                        4|                            R5|       0.0|2022-05-19|\n",
      "|    4.0|  LONG ISLAND CITY|   28 COMMERCIAL CONDOS|                null|  447|1002|                     null|11-05 44TH DRIVE,...|   11101|             null|               1|          1|            null|             null|      1931|                        4|                            R5|       0.0|2022-05-19|\n",
      "|    4.0|         RIDGEWOOD|   04 TAX CLASS 1 CO...|                null| 3564|1001|                     null|1736 GEORGE STREE...|   11385|                1|            null|          1|            null|             null|      1910|                        1|                            R6| 1100000.0|2022-05-05|\n",
      "|    4.0|         RIDGEWOOD|   04 TAX CLASS 1 CO...|                null| 3564|1002|                     null|17-36 GEORGE STRE...|   11385|                1|            null|          1|            null|             null|      1910|                        1|                            R6| 1250000.0|2022-05-23|\n",
      "|    3.0|        BATH BEACH|   04 TAX CLASS 1 CO...|                null| 6424|1109|                     null|210 BAY 7TH STREE...|   11228|                1|            null|          1|            null|             null|      2021|                        1|                            R3|  760688.0|2022-04-26|\n",
      "|    3.0|        BATH BEACH|   04 TAX CLASS 1 CO...|                null| 6424|1110|                     null|210 BAY 7TH STREE...|   11228|                1|            null|          1|            null|             null|      2021|                        1|                            R3|  749000.0|2022-04-29|\n",
      "|    3.0|        BATH BEACH|   04 TAX CLASS 1 CO...|                null| 6424|1111|                     null|210 BAY 7TH STREE...|   11228|                1|            null|          1|            null|             null|      2021|                        1|                            R3|  735331.0|2022-04-26|\n",
      "|    3.0|        BATH BEACH|   04 TAX CLASS 1 CO...|                null| 6424|1112|                     null|210 BAY 7TH STREE...|   11228|                1|            null|          1|            null|             null|      2021|                        1|                            R3|  824783.0|2022-05-18|\n",
      "|    3.0|        BATH BEACH|   04 TAX CLASS 1 CO...|                null| 6424|1113|                     null|210 BAY 7TH STREE...|   11228|                1|            null|          1|            null|             null|      2021|                        1|                            R3|  776078.0|2022-05-10|\n",
      "|    3.0|        BATH BEACH|   04 TAX CLASS 1 CO...|                null| 6424|1114|                     null|210 BAY 7TH STREE...|   11228|                1|            null|          1|            null|             null|      2021|                        1|                            R3|  731616.0|2022-04-27|\n",
      "|    3.0|        BATH BEACH|   04 TAX CLASS 1 CO...|                null| 6424|1115|                     null|210 BAY 7TH STREE...|   11228|                1|            null|          1|            null|             null|      2021|                        1|                            R3|  730085.0|2022-05-16|\n",
      "|    3.0|        BATH BEACH|   04 TAX CLASS 1 CO...|                null| 6424|1120|                     null|210 BAY 7TH STREE...|   11228|                1|            null|          1|            null|             null|      2021|                        1|                            R3|  739000.0|2022-05-18|\n",
      "|    3.0|        BATH BEACH|       44 CONDO PARKING|                null| 6424|1101|                     null|210 BAY 7TH STREE...|   11228|             null|               1|          1|            null|             null|      2021|                        4|                            RP|  760688.0|2022-04-26|\n",
      "|    3.0|        BATH BEACH|       44 CONDO PARKING|                null| 6424|1102|                     null|210 BAY 7TH STREE...|   11228|             null|               1|          1|            null|             null|      2021|                        4|                            RP|  824783.0|2022-05-18|\n",
      "|    3.0|        BATH BEACH|       44 CONDO PARKING|                null| 6424|1104|                     null|210 BAY 7TH STREE...|   11228|             null|               1|          1|            null|             null|      2021|                        4|                            RP|  776078.0|2022-05-10|\n",
      "|    3.0|BEDFORD STUYVESANT|   12 CONDOS - WALKU...|                null| 1988|1001|                     null|107 MADISON STREE...|   11216|                1|            null|          1|            null|             null|      2019|                        2|                            R2|  947568.0|2022-02-07|\n",
      "|    3.0|BEDFORD STUYVESANT|   12 CONDOS - WALKU...|                null| 1988|1002|                     null|107 MADISON STREE...|   11216|                1|            null|          1|            null|             null|      2019|                        2|                            R2| 1236178.0|2022-03-28|\n",
      "|    3.0|BEDFORD STUYVESANT|   12 CONDOS - WALKU...|                null| 1988|1004|                     null|107 MADISON STREE...|   11216|                1|            null|          1|            null|             null|      2019|                        2|                            R2|  705000.0|2022-01-18|\n",
      "|    3.0|BEDFORD STUYVESANT|   12 CONDOS - WALKU...|                null| 1988|1008|                     null|107 MADISON STREE...|   11216|                1|            null|          1|            null|             null|      2019|                        2|                            R2|  705000.0|2022-03-28|\n",
      "+-------+------------------+-----------------------+--------------------+-----+----+-------------------------+--------------------+--------+-----------------+----------------+-----------+----------------+-----------------+----------+-------------------------+------------------------------+----------+----------+\n",
      "only showing top 20 rows\n",
      "\n"
     ]
    }
   ],
   "source": [
    "df.filter(col(\"building_class_at_present\").isNull()).show()"
   ]
  },
  {
   "cell_type": "code",
   "execution_count": null,
   "id": "73569bc7",
   "metadata": {},
   "outputs": [],
   "source": [
    "test = df.filter(col(\"residential_units\").isNull() & col(\"commercial_units\").isNull())"
   ]
  },
  {
   "cell_type": "code",
   "execution_count": null,
   "id": "8ccb0a4d",
   "metadata": {},
   "outputs": [
    {
     "name": "stdout",
     "output_type": "stream",
     "text": [
      "+--------------------------------+\n",
      "|building_class_category         |\n",
      "+--------------------------------+\n",
      "|02 TWO FAMILY DWELLINGS         |\n",
      "|17 CONDO COOPS                  |\n",
      "|08 RENTALS - ELEVATOR APARTMENTS|\n",
      "|09 COOPS - WALKUP APARTMENTS    |\n",
      "|01 ONE FAMILY DWELLINGS         |\n",
      "|21 OFFICE BUILDINGS             |\n",
      "|10 COOPS - ELEVATOR APARTMENTS  |\n",
      "+--------------------------------+\n",
      "\n"
     ]
    }
   ],
   "source": [
    "test.select(\"building_class_category\").distinct().show(truncate = False)"
   ]
  },
  {
   "cell_type": "code",
   "execution_count": null,
   "id": "2381ed64",
   "metadata": {},
   "outputs": [
    {
     "name": "stdout",
     "output_type": "stream",
     "text": [
      "+------------------------------------------+\n",
      "|building_class_category                   |\n",
      "+------------------------------------------+\n",
      "|02 TWO FAMILY DWELLINGS                   |\n",
      "|17 CONDO COOPS                            |\n",
      "|49 CONDO WAREHOUSES/FACTORY/INDUS         |\n",
      "|40 SELECTED GOVERNMENTAL FACILITIES       |\n",
      "|31 COMMERCIAL VACANT LAND                 |\n",
      "|27 FACTORIES                              |\n",
      "|30 WAREHOUSES                             |\n",
      "|28 COMMERCIAL CONDOS                      |\n",
      "|47 CONDO NON-BUSINESS STORAGE             |\n",
      "|36 OUTDOOR RECREATIONAL FACILITIES        |\n",
      "|34 THEATRES                               |\n",
      "|13 CONDOS - ELEVATOR APARTMENTS           |\n",
      "|38 ASYLUMS AND HOMES                      |\n",
      "|08 RENTALS - ELEVATOR APARTMENTS          |\n",
      "|29 COMMERCIAL GARAGES                     |\n",
      "|09 COOPS - WALKUP APARTMENTS              |\n",
      "|03 THREE FAMILY DWELLINGS                 |\n",
      "|32 HOSPITAL AND HEALTH FACILITIES         |\n",
      "|48 CONDO TERRACES/GARDENS/CABANAS         |\n",
      "|12 CONDOS - WALKUP APARTMENTS             |\n",
      "|15 CONDOS - 2-10 UNIT RESIDENTIAL         |\n",
      "|35 INDOOR PUBLIC AND CULTURAL FACILITIES  |\n",
      "|44 CONDO PARKING                          |\n",
      "|05 TAX CLASS 1 VACANT LAND                |\n",
      "|25 LUXURY HOTELS                          |\n",
      "|16 CONDOS - 2-10 UNIT WITH COMMERCIAL UNIT|\n",
      "|37 RELIGIOUS FACILITIES                   |\n",
      "|43 CONDO OFFICE BUILDINGS                 |\n",
      "|45 CONDO HOTELS                           |\n",
      "|22 STORE BUILDINGS                        |\n",
      "|41 TAX CLASS 4 - OTHER                    |\n",
      "|39 TRANSPORTATION FACILITIES              |\n",
      "|04 TAX CLASS 1 CONDOS                     |\n",
      "|01 ONE FAMILY DWELLINGS                   |\n",
      "|46 CONDO STORE BUILDINGS                  |\n",
      "|26 OTHER HOTELS                           |\n",
      "|06 TAX CLASS 1 - OTHER                    |\n",
      "|11 SPECIAL CONDO BILLING LOTS             |\n",
      "|21 OFFICE BUILDINGS                       |\n",
      "|33 EDUCATIONAL FACILITIES                 |\n",
      "|07 RENTALS - WALKUP APARTMENTS            |\n",
      "|10 COOPS - ELEVATOR APARTMENTS            |\n",
      "|42 CONDO CULTURAL/MEDICAL/EDUCATIONAL/ETC |\n",
      "|14 RENTALS - 4-10 UNIT                    |\n",
      "+------------------------------------------+\n",
      "\n"
     ]
    }
   ],
   "source": [
    "df.select(\"building_class_category\").orderBy(\"building_class_category\").distinct().show(1000,truncate=False)"
   ]
  },
  {
   "cell_type": "code",
   "execution_count": null,
   "id": "01855e4d",
   "metadata": {},
   "outputs": [
    {
     "name": "stdout",
     "output_type": "stream",
     "text": [
      "+-----------------------------------------+\n",
      "|building_class_category                  |\n",
      "+-----------------------------------------+\n",
      "|02 TWO FAMILY DWELLINGS                  |\n",
      "|17 CONDO COOPS                           |\n",
      "|49 CONDO WAREHOUSES/FACTORY/INDUS        |\n",
      "|28 COMMERCIAL CONDOS                     |\n",
      "|47 CONDO NON-BUSINESS STORAGE            |\n",
      "|08 RENTALS - ELEVATOR APARTMENTS         |\n",
      "|09 COOPS - WALKUP APARTMENTS             |\n",
      "|48 CONDO TERRACES/GARDENS/CABANAS        |\n",
      "|44 CONDO PARKING                         |\n",
      "|43 CONDO OFFICE BUILDINGS                |\n",
      "|45 CONDO HOTELS                          |\n",
      "|41 TAX CLASS 4 - OTHER                   |\n",
      "|01 ONE FAMILY DWELLINGS                  |\n",
      "|46 CONDO STORE BUILDINGS                 |\n",
      "|21 OFFICE BUILDINGS                      |\n",
      "|10 COOPS - ELEVATOR APARTMENTS           |\n",
      "|42 CONDO CULTURAL/MEDICAL/EDUCATIONAL/ETC|\n",
      "+-----------------------------------------+\n",
      "\n"
     ]
    }
   ],
   "source": [
    "df.filter(col(\"residential_units\").isNull()).select(\"building_class_category\").distinct().show(truncate=False,n = 1000)"
   ]
  },
  {
   "cell_type": "code",
   "execution_count": null,
   "id": "25476aec",
   "metadata": {},
   "outputs": [
    {
     "data": {
      "text/plain": [
       "41129"
      ]
     },
     "execution_count": 121,
     "metadata": {},
     "output_type": "execute_result"
    }
   ],
   "source": [
    "df.filter(col(\"residential_units\").isNull() & col(\"building_class_category\").isin([\"02 TWO FAMILY DWELLINGS\",\"08 RENTALS - ELEVATOR APARTMENTS\",\"COOPS - WALKUP APARTMENTS\",\"01 ONE FAMILY DWELLINGS\",\"10 COOPS - ELEVATOR APARTMENTS\"])).count()"
   ]
  },
  {
   "cell_type": "code",
   "execution_count": null,
   "id": "b175cfd5",
   "metadata": {},
   "outputs": [
    {
     "name": "stdout",
     "output_type": "stream",
     "text": [
      "+-------+------------------+-----------------------+--------------------+-----+---+-------------------------+--------------------+--------+-----------------+----------------+-----------+----------------+-----------------+----------+-------------------------+------------------------------+----------+----------+\n",
      "|borough|      neighborhood|building_class_category|tax_class_at_present|block|lot|building_class_at_present|             address|zip_code|residential_units|commercial_units|total_units|land_square_feet|gross_square_feet|year_built|tax_class_at_time_of_sale|building_class_at_time_of_sale|sale_price| sale_date|\n",
      "+-------+------------------+-----------------------+--------------------+-----+---+-------------------------+--------------------+--------+-----------------+----------------+-----------+----------------+-----------------+----------+-------------------------+------------------------------+----------+----------+\n",
      "|    4.0|AIRPORT LA GUARDIA|   01 ONE FAMILY DWE...|                   1|  949| 34|                       A5|   19-48 81ST STREET|   11370|                1|               0|          1|          1799.0|           1224.0|      1945|                        1|                            A5|  864195.0|2022-07-15|\n",
      "|    4.0|AIRPORT LA GUARDIA|   01 ONE FAMILY DWE...|                   1|  949| 37|                       A5|   19-54 81ST STREET|   11370|                1|               0|          1|          1799.0|           1224.0|      1945|                        1|                            A5|  815000.0|2022-06-24|\n",
      "|    4.0|AIRPORT LA GUARDIA|   01 ONE FAMILY DWE...|                   1|  976| 55|                       A5|   21-33 80TH STREET|   11370|                1|               0|          1|          1799.0|           1224.0|      1950|                        1|                            A5|  830000.0|2022-09-23|\n",
      "|    4.0|AIRPORT LA GUARDIA|   01 ONE FAMILY DWE...|                   1|  976| 60|                       A5|   21-23 80TH STREET|   11370|                1|               0|          1|          1800.0|           1224.0|      1950|                        1|                            A5|  900000.0|2022-02-08|\n",
      "|    4.0|           ARVERNE|   01 ONE FAMILY DWE...|                   1|15830|  5|                       A6|40-10 ROCKAWAY BE...|   11691|                1|               0|          1|          1594.0|            482.0|      1920|                        1|                            A6|  195000.0|2022-02-03|\n",
      "|    4.0|           ARVERNE|   01 ONE FAMILY DWE...|                   1|15830|  8|                       A5|4016 ROCKAWAY BEA...|   11691|                1|               0|          1|          3231.0|           1520.0|      2005|                        1|                            A5|  585000.0|2022-07-27|\n",
      "|    4.0|           ARVERNE|   01 ONE FAMILY DWE...|                   1|15830| 48|                       A5| 335 BEACH 40 STREET|   11691|                1|               0|          1|          2245.0|           1350.0|      2005|                        1|                            A5|       0.0|2022-07-01|\n",
      "|    4.0|           ARVERNE|   01 ONE FAMILY DWE...|                   1|15833| 47|                       A5|341 BEACH 42ND ST...|   11691|                1|               0|          1|          2850.0|           1332.0|      2006|                        1|                            A5|  549999.0|2022-09-23|\n",
      "|    4.0|           ARVERNE|   01 ONE FAMILY DWE...|                   1|15834| 57|                       A5|      329 BEACH 43RD|   11691|                1|               0|          1|          2228.0|           1476.0|      2006|                        1|                            A5|  315000.0|2022-04-15|\n",
      "|    4.0|           ARVERNE|   01 ONE FAMILY DWE...|                   1|15834| 57|                       A5|   329 BEACH 43RD ST|   11691|                1|               0|          1|          2228.0|           1476.0|      2006|                        1|                            A5|  600000.0|2022-11-07|\n",
      "|    4.0|           ARVERNE|   01 ONE FAMILY DWE...|                   1|15835| 63|                       A2|337 BEACH 44TH ST...|   11691|                1|               0|          1|          3431.0|           2268.0|      1920|                        1|                            A2|       0.0|2022-05-25|\n",
      "|    4.0|           ARVERNE|   01 ONE FAMILY DWE...|                   1|15837| 27|                       A2| 354 BEACH 46 STREET|   11691|                1|               0|          1|          3804.0|           2304.0|      1925|                        1|                            A2|  190000.0|2022-08-19|\n",
      "|    4.0|           ARVERNE|   01 ONE FAMILY DWE...|                   1|15837| 56|                       A1|335 BEACH 45TH ST...|   11691|                1|               0|          1|          2470.0|           1048.0|      1925|                        1|                            A1|  505000.0|2022-03-11|\n",
      "|    4.0|           ARVERNE|   01 ONE FAMILY DWE...|                   1|15839| 64|                       A2| 311 BEACH 47 STREET|   11691|                1|               0|          1|          2853.0|           2080.0|      1920|                        1|                            A2|       0.0|2022-08-24|\n",
      "|    4.0|           ARVERNE|   01 ONE FAMILY DWE...|                   1|15849| 22|                       A6|40-01 ROCKAWAY BE...|   11691|                1|               0|          1|          2626.0|            618.0|      1920|                        1|                            A6|  542000.0|2022-03-01|\n",
      "|    4.0|           ARVERNE|   01 ONE FAMILY DWE...|                   1|15850| 30|                       A6| 206 BEACH 42 STREET|   11691|                1|               0|          1|          2000.0|            560.0|      1920|                        1|                            A6|  375000.0|2022-09-23|\n",
      "|    4.0|           ARVERNE|   01 ONE FAMILY DWE...|                   1|15905| 47|                       A5|123 BEACH 62ND ST...|   11692|                1|               0|          1|          4413.0|           2626.0|      2014|                        1|                            A5| 1138000.0|2022-10-14|\n",
      "|    4.0|           ARVERNE|   01 ONE FAMILY DWE...|                   1|15908| 16|                       A0|63-07 BEACH CHANN...|   11692|                1|               0|          1|          4000.0|           1020.0|      1950|                        1|                            A0|       0.0|2022-03-31|\n",
      "|    4.0|           ARVERNE|   01 ONE FAMILY DWE...|                   1|15954| 82|                       A5|        403 BEACH 37|   11691|                1|               0|          1|          2896.0|           1502.0|      2008|                        1|                            A5|  540000.0|2022-03-09|\n",
      "|    4.0|           ARVERNE|   01 ONE FAMILY DWE...|                   1|15960|  8|                       A1| 410 BEACH 43 STREET|   11691|                1|               0|          1|          2252.0|            866.0|      2018|                        1|                            A1|  146138.0|2022-11-09|\n",
      "+-------+------------------+-----------------------+--------------------+-----+---+-------------------------+--------------------+--------+-----------------+----------------+-----------+----------------+-----------------+----------+-------------------------+------------------------------+----------+----------+\n",
      "only showing top 20 rows\n",
      "\n"
     ]
    }
   ],
   "source": [
    "df.filter(col(\"building_class_category\").isin([\"02 TWO FAMILY DWELLINGS\",\"08 RENTALS - ELEVATOR APARTMENTS\",\"COOPS - WALKUP APARTMENTS\",\"01 ONE FAMILY DWELLINGS\",\"10 COOPS - ELEVATOR APARTMENTS\"])).show()"
   ]
  },
  {
   "cell_type": "code",
   "execution_count": null,
   "id": "2da7f20a",
   "metadata": {},
   "outputs": [
    {
     "name": "stdout",
     "output_type": "stream",
     "text": [
      "+-------+------------+-----------------------+--------------------+-----+---+-------------------------+--------------------+--------+-----------------+----------------+-----------+----------------+-----------------+----------+-------------------------+------------------------------+----------+----------+\n",
      "|borough|neighborhood|building_class_category|tax_class_at_present|block|lot|building_class_at_present|             address|zip_code|residential_units|commercial_units|total_units|land_square_feet|gross_square_feet|year_built|tax_class_at_time_of_sale|building_class_at_time_of_sale|sale_price| sale_date|\n",
      "+-------+------------+-----------------------+--------------------+-----+---+-------------------------+--------------------+--------+-----------------+----------------+-----------+----------------+-----------------+----------+-------------------------+------------------------------+----------+----------+\n",
      "|    4.0|     ARVERNE|   08 RENTALS - ELEV...|                   2|15890| 97|                       D3| 311 BEACH 53 STREET|   11691|               16|               0|         16|         10800.0|          10962.0|      2004|                        2|                            D3| 3000000.0|2022-04-14|\n",
      "|    4.0|     ASTORIA|   08 RENTALS - ELEV...|                   2|  598| 64|                       D7|   28-04 31ST STREET|   11102|               10|               2|         12|          3750.0|          16873.0|      2006|                        2|                            D7| 5815000.0|2022-01-07|\n",
      "|    4.0|     ASTORIA|   08 RENTALS - ELEV...|                  2B|  653| 90|                       D1|   25-78 38TH STREET|   11103|                7|               0|          7|          2521.0|           4982.0|      2013|                        2|                            D1|       0.0|2022-02-15|\n",
      "|    4.0|     ASTORIA|   08 RENTALS - ELEV...|                  2B|  835| 12|                       D7|   23-67 31ST STREET|   11105|                9|               1|         10|          2250.0|           7634.0|      2016|                        2|                            D7| 6400000.0|2022-09-01|\n",
      "|    4.0|     ASTORIA|   08 RENTALS - ELEV...|                   2|  835| 14|                       D7|   23-61 31ST STREET|   11105|               10|               1|         11|          2250.0|           8155.0|      2020|                        2|                            D7| 5930000.0|2022-07-20|\n",
      "|    4.0|     ASTORIA|   08 RENTALS - ELEV...|                   2|  890| 91|                       D1|   23-06 21ST STREET|   11105|               59|               0|         59|         10379.0|          50100.0|      1929|                        2|                            D1|    1.16E7|2022-01-27|\n",
      "|    4.0|     ASTORIA|   08 RENTALS - ELEV...|                   2|  910| 27|                       D3|      26-12 4 STREET|   11102|               18|               0|         18|          5159.0|          15270.0|      2021|                        2|                            D3|       0.0|2022-02-16|\n",
      "|    4.0|     ASTORIA|   10 COOPS - ELEVAT...|                   2|  528| 50|                       D4|33-43 14 STREET, 15A|   11106|             null|            null|          0|            null|             null|      1958|                        2|                            D4|  475000.0|2022-08-10|\n",
      "|    4.0|     ASTORIA|   10 COOPS - ELEVAT...|                   2|  528| 50|                       D4|33-43 14TH STREET...|   11106|             null|            null|          0|            null|             null|      1958|                        2|                            D4|  455000.0|2022-06-17|\n",
      "|    4.0|     ASTORIA|   10 COOPS - ELEVAT...|                   2|  528| 50|                       D4|33-43 14TH STREET...|   11106|             null|            null|          0|            null|             null|      1958|                        2|                            D4|  425000.0|2022-02-10|\n",
      "|    4.0|     ASTORIA|   10 COOPS - ELEVAT...|                   2|  528| 50|                       D4|   33-47 14TH ST, 4D|   11106|             null|            null|          0|            null|             null|      1958|                        2|                            D4|  228000.0|2022-10-24|\n",
      "|    4.0|     ASTORIA|   10 COOPS - ELEVAT...|                   2|  528| 50|                       D4|33-55 14TH STREET...|   11106|             null|            null|          0|            null|             null|      1958|                        2|                            D4|  448000.0|2022-11-29|\n",
      "|    4.0|     ASTORIA|   10 COOPS - ELEVAT...|                   2|  528| 50|                       D4|33-60 21 STREET, 10C|   11106|             null|            null|          0|            null|             null|      1958|                        2|                            D4|  360000.0|2022-04-12|\n",
      "|    4.0|     ASTORIA|   10 COOPS - ELEVAT...|                   2|  528| 50|                       D4|  33-60 21ST ST, 12A|   11106|             null|            null|          0|            null|             null|      1958|                        2|                            D4|  635000.0|2022-09-19|\n",
      "|    4.0|     ASTORIA|   10 COOPS - ELEVAT...|                   2|  528| 50|                       D4|33-60 21ST STREET...|   11106|             null|            null|          0|            null|             null|      1958|                        2|                            D4|  565000.0|2022-12-20|\n",
      "|    4.0|     ASTORIA|   10 COOPS - ELEVAT...|                   2|  528| 50|                       D4|33-60 21ST STREET...|   11106|             null|            null|          0|            null|             null|      1958|                        2|                            D4|  610000.0|2022-09-13|\n",
      "|    4.0|     ASTORIA|   10 COOPS - ELEVAT...|                   2|  528| 50|                       D4|33-64 21ST STREET...|   11106|             null|            null|          0|            null|             null|      1958|                        2|                            D4|  489000.0|2022-01-20|\n",
      "|    4.0|     ASTORIA|   10 COOPS - ELEVAT...|                   2|  528| 50|                       D4|33-64 21ST STREET...|   11106|             null|            null|          0|            null|             null|      1958|                        2|                            D4|  470000.0|2022-01-12|\n",
      "|    4.0|     ASTORIA|   10 COOPS - ELEVAT...|                   2|  528| 50|                       D4|33-64 21ST STREET...|   11106|             null|            null|          0|            null|             null|      1958|                        2|                            D4|  458200.0|2022-07-06|\n",
      "|    4.0|     ASTORIA|   10 COOPS - ELEVAT...|                   2|  528| 50|                       D4|33-64 21ST STREET...|   11106|             null|            null|          0|            null|             null|      1958|                        2|                            D4|  485000.0|2022-08-26|\n",
      "+-------+------------+-----------------------+--------------------+-----+---+-------------------------+--------------------+--------+-----------------+----------------+-----------+----------------+-----------------+----------+-------------------------+------------------------------+----------+----------+\n",
      "only showing top 20 rows\n",
      "\n"
     ]
    }
   ],
   "source": [
    "df.filter(col(\"building_class_category\").isin([\"08 RENTALS - ELEVATOR APARTMENTS\",\"COOPS - WALKUP APARTMENTS\",\"10 COOPS - ELEVATOR APARTMENTS\"])).show()"
   ]
  },
  {
   "cell_type": "code",
   "execution_count": null,
   "id": "f5374bb3",
   "metadata": {},
   "outputs": [],
   "source": [
    "df = df.withColumn(\n",
    "    \"residential_units\",\n",
    "    when(\n",
    "        ((col(\"residential_units\").isNull()) | (col(\"residential_units\") == 0)) &\n",
    "        (col(\"building_class_category\") == \"01 ONE FAMILY DWELLINGS\"),\n",
    "        1\n",
    "    ).when(\n",
    "        ((col(\"residential_units\").isNull()) | (col(\"residential_units\") == 0)) &\n",
    "        (col(\"building_class_category\") == \"02 TWO FAMILY DWELLINGS\"),\n",
    "        2\n",
    "    ).when(\n",
    "        ((col(\"residential_units\").isNull()) | (col(\"residential_units\") == 0)) &\n",
    "        (col(\"building_class_category\").isin(\n",
    "            \"08 RENTALS - ELEVATOR APARTMENTS\",\n",
    "            \"09 COOPS - WALKUP APARTMENTS\",\n",
    "            \"10 COOPS - ELEVATOR APARTMENTS\"\n",
    "        )) &\n",
    "        (col(\"total_units\").isNotNull()),\n",
    "        col(\"total_units\")\n",
    "    ).when(\n",
    "        ((col(\"residential_units\").isNull()) | (col(\"residential_units\") == 0)) &\n",
    "        (col(\"building_class_category\").isin(\n",
    "            \"17 CONDO COOPS\",\n",
    "            \"49 CONDO WAREHOUSES/FACTORY/INDUS\",\n",
    "            \"28 COMMERCIAL CONDOS\",\n",
    "            \"47 CONDO NON-BUSINESS STORAGE\",\n",
    "            \"48 CONDO TERRACES/GARDENS/CABANAS\",\n",
    "            \"44 CONDO PARKING\",\n",
    "            \"43 CONDO OFFICE BUILDINGS\",\n",
    "            \"45 CONDO HOTELS\",\n",
    "            \"41 TAX CLASS 4 - OTHER\",\n",
    "            \"46 CONDO STORE BUILDINGS\",\n",
    "            \"21 OFFICE BUILDINGS\",\n",
    "            \"42 CONDO CULTURAL/MEDICAL/EDUCATIONAL/ETC\"\n",
    "        )), \n",
    "        0\n",
    "    ).otherwise(col(\"residential_units\"))\n",
    ")"
   ]
  },
  {
   "cell_type": "code",
   "execution_count": null,
   "id": "29d3b62d",
   "metadata": {},
   "outputs": [],
   "source": [
    "null_count = df.select([count(when(col(c).isNull(), c)).alias(c) for c in df.columns])"
   ]
  },
  {
   "cell_type": "code",
   "execution_count": null,
   "id": "b1e2baa1",
   "metadata": {},
   "outputs": [
    {
     "name": "stdout",
     "output_type": "stream",
     "text": [
      "+-------+------------+-----------------------+--------------------+-----+---+-------------------------+-------+--------+-----------------+----------------+-----------+----------------+-----------------+----------+-------------------------+------------------------------+----------+---------+\n",
      "|borough|neighborhood|building_class_category|tax_class_at_present|block|lot|building_class_at_present|address|zip_code|residential_units|commercial_units|total_units|land_square_feet|gross_square_feet|year_built|tax_class_at_time_of_sale|building_class_at_time_of_sale|sale_price|sale_date|\n",
      "+-------+------------+-----------------------+--------------------+-----+---+-------------------------+-------+--------+-----------------+----------------+-----------+----------------+-----------------+----------+-------------------------+------------------------------+----------+---------+\n",
      "|      0|           0|                      0|                 112|    0|  0|                      112|      0|      22|                0|          105020|          0|          113118|           113118|     16456|                        1|                             1|         1|        1|\n",
      "+-------+------------+-----------------------+--------------------+-----+---+-------------------------+-------+--------+-----------------+----------------+-----------+----------------+-----------------+----------+-------------------------+------------------------------+----------+---------+\n",
      "\n"
     ]
    }
   ],
   "source": [
    "null_count.show()"
   ]
  },
  {
   "cell_type": "code",
   "execution_count": null,
   "id": "68ed2e97",
   "metadata": {},
   "outputs": [
    {
     "name": "stdout",
     "output_type": "stream",
     "text": [
      "+-------+------------+-----------------------+--------------------+-----+---+-------------------------+--------------------+--------+-----------------+----------------+-----------+----------------+-----------------+----------+-------------------------+------------------------------+----------+----------+\n",
      "|borough|neighborhood|building_class_category|tax_class_at_present|block|lot|building_class_at_present|             address|zip_code|residential_units|commercial_units|total_units|land_square_feet|gross_square_feet|year_built|tax_class_at_time_of_sale|building_class_at_time_of_sale|sale_price| sale_date|\n",
      "+-------+------------+-----------------------+--------------------+-----+---+-------------------------+--------------------+--------+-----------------+----------------+-----------+----------------+-----------------+----------+-------------------------+------------------------------+----------+----------+\n",
      "|    4.0|     ARVERNE|   08 RENTALS - ELEV...|                   2|15890| 97|                       D3| 311 BEACH 53 STREET|   11691|               16|               0|         16|         10800.0|          10962.0|      2004|                        2|                            D3| 3000000.0|2022-04-14|\n",
      "|    4.0|     ASTORIA|   08 RENTALS - ELEV...|                   2|  598| 64|                       D7|   28-04 31ST STREET|   11102|               10|               2|         12|          3750.0|          16873.0|      2006|                        2|                            D7| 5815000.0|2022-01-07|\n",
      "|    4.0|     ASTORIA|   08 RENTALS - ELEV...|                  2B|  653| 90|                       D1|   25-78 38TH STREET|   11103|                7|               0|          7|          2521.0|           4982.0|      2013|                        2|                            D1|       0.0|2022-02-15|\n",
      "|    4.0|     ASTORIA|   08 RENTALS - ELEV...|                  2B|  835| 12|                       D7|   23-67 31ST STREET|   11105|                9|               1|         10|          2250.0|           7634.0|      2016|                        2|                            D7| 6400000.0|2022-09-01|\n",
      "|    4.0|     ASTORIA|   08 RENTALS - ELEV...|                   2|  835| 14|                       D7|   23-61 31ST STREET|   11105|               10|               1|         11|          2250.0|           8155.0|      2020|                        2|                            D7| 5930000.0|2022-07-20|\n",
      "|    4.0|     ASTORIA|   08 RENTALS - ELEV...|                   2|  890| 91|                       D1|   23-06 21ST STREET|   11105|               59|               0|         59|         10379.0|          50100.0|      1929|                        2|                            D1|    1.16E7|2022-01-27|\n",
      "|    4.0|     ASTORIA|   08 RENTALS - ELEV...|                   2|  910| 27|                       D3|      26-12 4 STREET|   11102|               18|               0|         18|          5159.0|          15270.0|      2021|                        2|                            D3|       0.0|2022-02-16|\n",
      "|    4.0|     ASTORIA|   10 COOPS - ELEVAT...|                   2|  528| 50|                       D4|33-43 14 STREET, 15A|   11106|                0|            null|          0|            null|             null|      1958|                        2|                            D4|  475000.0|2022-08-10|\n",
      "|    4.0|     ASTORIA|   10 COOPS - ELEVAT...|                   2|  528| 50|                       D4|33-43 14TH STREET...|   11106|                0|            null|          0|            null|             null|      1958|                        2|                            D4|  455000.0|2022-06-17|\n",
      "|    4.0|     ASTORIA|   10 COOPS - ELEVAT...|                   2|  528| 50|                       D4|33-43 14TH STREET...|   11106|                0|            null|          0|            null|             null|      1958|                        2|                            D4|  425000.0|2022-02-10|\n",
      "|    4.0|     ASTORIA|   10 COOPS - ELEVAT...|                   2|  528| 50|                       D4|   33-47 14TH ST, 4D|   11106|                0|            null|          0|            null|             null|      1958|                        2|                            D4|  228000.0|2022-10-24|\n",
      "|    4.0|     ASTORIA|   10 COOPS - ELEVAT...|                   2|  528| 50|                       D4|33-55 14TH STREET...|   11106|                0|            null|          0|            null|             null|      1958|                        2|                            D4|  448000.0|2022-11-29|\n",
      "|    4.0|     ASTORIA|   10 COOPS - ELEVAT...|                   2|  528| 50|                       D4|33-60 21 STREET, 10C|   11106|                0|            null|          0|            null|             null|      1958|                        2|                            D4|  360000.0|2022-04-12|\n",
      "|    4.0|     ASTORIA|   10 COOPS - ELEVAT...|                   2|  528| 50|                       D4|  33-60 21ST ST, 12A|   11106|                0|            null|          0|            null|             null|      1958|                        2|                            D4|  635000.0|2022-09-19|\n",
      "|    4.0|     ASTORIA|   10 COOPS - ELEVAT...|                   2|  528| 50|                       D4|33-60 21ST STREET...|   11106|                0|            null|          0|            null|             null|      1958|                        2|                            D4|  565000.0|2022-12-20|\n",
      "|    4.0|     ASTORIA|   10 COOPS - ELEVAT...|                   2|  528| 50|                       D4|33-60 21ST STREET...|   11106|                0|            null|          0|            null|             null|      1958|                        2|                            D4|  610000.0|2022-09-13|\n",
      "|    4.0|     ASTORIA|   10 COOPS - ELEVAT...|                   2|  528| 50|                       D4|33-64 21ST STREET...|   11106|                0|            null|          0|            null|             null|      1958|                        2|                            D4|  489000.0|2022-01-20|\n",
      "|    4.0|     ASTORIA|   10 COOPS - ELEVAT...|                   2|  528| 50|                       D4|33-64 21ST STREET...|   11106|                0|            null|          0|            null|             null|      1958|                        2|                            D4|  470000.0|2022-01-12|\n",
      "|    4.0|     ASTORIA|   10 COOPS - ELEVAT...|                   2|  528| 50|                       D4|33-64 21ST STREET...|   11106|                0|            null|          0|            null|             null|      1958|                        2|                            D4|  458200.0|2022-07-06|\n",
      "|    4.0|     ASTORIA|   10 COOPS - ELEVAT...|                   2|  528| 50|                       D4|33-64 21ST STREET...|   11106|                0|            null|          0|            null|             null|      1958|                        2|                            D4|  485000.0|2022-08-26|\n",
      "+-------+------------+-----------------------+--------------------+-----+---+-------------------------+--------------------+--------+-----------------+----------------+-----------+----------------+-----------------+----------+-------------------------+------------------------------+----------+----------+\n",
      "only showing top 20 rows\n",
      "\n"
     ]
    }
   ],
   "source": [
    "df.filter(col(\"building_class_category\").isin([\"08 RENTALS - ELEVATOR APARTMENTS\",\"COOPS - WALKUP APARTMENTS\",\"10 COOPS - ELEVATOR APARTMENTS\"])).show()"
   ]
  },
  {
   "cell_type": "code",
   "execution_count": null,
   "id": "438c8d72",
   "metadata": {},
   "outputs": [
    {
     "name": "stdout",
     "output_type": "stream",
     "text": [
      "root\n",
      " |-- borough: double (nullable = true)\n",
      " |-- neighborhood: string (nullable = true)\n",
      " |-- building_class_category: string (nullable = true)\n",
      " |-- tax_class_at_present: string (nullable = true)\n",
      " |-- block: integer (nullable = true)\n",
      " |-- lot: integer (nullable = true)\n",
      " |-- building_class_at_present: string (nullable = true)\n",
      " |-- address: string (nullable = true)\n",
      " |-- zip_code: integer (nullable = true)\n",
      " |-- residential_units: integer (nullable = true)\n",
      " |-- commercial_units: integer (nullable = true)\n",
      " |-- total_units: integer (nullable = false)\n",
      " |-- land_square_feet: double (nullable = true)\n",
      " |-- gross_square_feet: double (nullable = true)\n",
      " |-- year_built: integer (nullable = true)\n",
      " |-- tax_class_at_time_of_sale: integer (nullable = true)\n",
      " |-- building_class_at_time_of_sale: string (nullable = true)\n",
      " |-- sale_price: double (nullable = true)\n",
      " |-- sale_date: string (nullable = true)\n",
      "\n"
     ]
    }
   ],
   "source": [
    "df.printSchema()"
   ]
  },
  {
   "cell_type": "markdown",
   "id": "b243d513",
   "metadata": {},
   "source": [
    "## Now about 50K from the residential_units missing data solved"
   ]
  },
  {
   "cell_type": "markdown",
   "id": "44f2989e",
   "metadata": {},
   "source": [
    "## The other records can't have residential units so the value will be 0"
   ]
  },
  {
   "cell_type": "code",
   "execution_count": null,
   "id": "542b0c80",
   "metadata": {},
   "outputs": [
    {
     "name": "stdout",
     "output_type": "stream",
     "text": [
      "+-----------------------+\n",
      "|building_class_category|\n",
      "+-----------------------+\n",
      "+-----------------------+\n",
      "\n"
     ]
    }
   ],
   "source": [
    "df.filter(col(\"residential_units\").isNull()).select(\"building_class_category\").distinct().show(truncate=False,n = 1000)"
   ]
  },
  {
   "cell_type": "markdown",
   "id": "1b2acba9",
   "metadata": {},
   "source": [
    "## Now the commercial units"
   ]
  },
  {
   "cell_type": "code",
   "execution_count": null,
   "id": "7963619b",
   "metadata": {},
   "outputs": [
    {
     "name": "stdout",
     "output_type": "stream",
     "text": [
      "+------------------------------------------+\n",
      "|building_class_category                   |\n",
      "+------------------------------------------+\n",
      "|02 TWO FAMILY DWELLINGS                   |\n",
      "|17 CONDO COOPS                            |\n",
      "|13 CONDOS - ELEVATOR APARTMENTS           |\n",
      "|08 RENTALS - ELEVATOR APARTMENTS          |\n",
      "|09 COOPS - WALKUP APARTMENTS              |\n",
      "|12 CONDOS - WALKUP APARTMENTS             |\n",
      "|15 CONDOS - 2-10 UNIT RESIDENTIAL         |\n",
      "|16 CONDOS - 2-10 UNIT WITH COMMERCIAL UNIT|\n",
      "|04 TAX CLASS 1 CONDOS                     |\n",
      "|01 ONE FAMILY DWELLINGS                   |\n",
      "|11 SPECIAL CONDO BILLING LOTS             |\n",
      "|21 OFFICE BUILDINGS                       |\n",
      "|10 COOPS - ELEVATOR APARTMENTS            |\n",
      "+------------------------------------------+\n",
      "\n"
     ]
    }
   ],
   "source": [
    "df.filter(col(\"commercial_units\").isNull()).select(\"building_class_category\").distinct().show(truncate=False,n = 1000)"
   ]
  },
  {
   "cell_type": "code",
   "execution_count": null,
   "id": "0fabb45e",
   "metadata": {},
   "outputs": [],
   "source": [
    "df = df.withColumn(\n",
    "    \"commercial_units\",\n",
    "    when(\n",
    "        (col(\"commercial_units\").isNull()) &\n",
    "        (col(\"building_class_category\").isin(\n",
    "            \"01 ONE FAMILY DWELLINGS\",\n",
    "            \"02 TWO FAMILY DWELLINGS\",\n",
    "            \"03 THREE FAMILY DWELLINGS\",\n",
    "            \"08 RENTALS - ELEVATOR APARTMENTS\",\n",
    "            \"09 COOPS - WALKUP APARTMENTS\",\n",
    "            \"10 COOPS - ELEVATOR APARTMENTS\",\n",
    "            \"12 CONDOS - WALKUP APARTMENTS\",\n",
    "            \"13 CONDOS - ELEVATOR APARTMENTS\",\n",
    "            \"15 CONDOS - 2-10 UNIT RESIDENTIAL\",\n",
    "            \"04 TAX CLASS 1 CONDOS\",\n",
    "            \"11 SPECIAL CONDO BILLING LOTS\",\n",
    "            \"17 CONDO COOPS\"\n",
    "        )),\n",
    "        \"0.0\"\n",
    "    ).when(\n",
    "        (col(\"commercial_units\").isNull()) &\n",
    "        (col(\"building_class_category\") == \"16 CONDOS - 2-10 UNIT WITH COMMERCIAL UNIT\"),\n",
    "        \"1.0\"\n",
    "    ).when(\n",
    "        (col(\"commercial_units\").isNull()) &\n",
    "        (col(\"building_class_category\") == \"21 OFFICE BUILDINGS\") &\n",
    "        (col(\"total_units\").isNotNull()),\n",
    "        col(\"total_units\")\n",
    "    ).otherwise(col(\"commercial_units\"))\n",
    ")"
   ]
  },
  {
   "cell_type": "code",
   "execution_count": null,
   "id": "0aacdd5c",
   "metadata": {},
   "outputs": [
    {
     "name": "stdout",
     "output_type": "stream",
     "text": [
      "+----------------+\n",
      "|commercial_units|\n",
      "+----------------+\n",
      "|               0|\n",
      "+----------------+\n",
      "\n"
     ]
    }
   ],
   "source": [
    "df.select(count(when(col(\"commercial_units\").isNull(), \"commercial_units\")).alias(\"commercial_units\")).show()"
   ]
  },
  {
   "cell_type": "code",
   "execution_count": null,
   "id": "a141f65f",
   "metadata": {},
   "outputs": [
    {
     "name": "stdout",
     "output_type": "stream",
     "text": [
      "+-----------------------+\n",
      "|building_class_category|\n",
      "+-----------------------+\n",
      "+-----------------------+\n",
      "\n"
     ]
    }
   ],
   "source": [
    "df.filter(col(\"commercial_units\").isNull()).select(\"building_class_category\").distinct().show(truncate=False,n = 1000)"
   ]
  },
  {
   "cell_type": "markdown",
   "id": "a85cf40a",
   "metadata": {},
   "source": [
    "## Land and gross Square feet imputation"
   ]
  },
  {
   "cell_type": "code",
   "execution_count": null,
   "id": "920f68fe",
   "metadata": {},
   "outputs": [
    {
     "name": "stdout",
     "output_type": "stream",
     "text": [
      "+-------+------------+-----------------------+--------------------+-----+---+-------------------------+-------+--------+-----------------+----------------+-----------+----------------+-----------------+----------+-------------------------+------------------------------+----------+---------+\n",
      "|borough|neighborhood|building_class_category|tax_class_at_present|block|lot|building_class_at_present|address|zip_code|residential_units|commercial_units|total_units|land_square_feet|gross_square_feet|year_built|tax_class_at_time_of_sale|building_class_at_time_of_sale|sale_price|sale_date|\n",
      "+-------+------------+-----------------------+--------------------+-----+---+-------------------------+-------+--------+-----------------+----------------+-----------+----------------+-----------------+----------+-------------------------+------------------------------+----------+---------+\n",
      "|      0|           0|                      0|                 112|    0|  0|                      112|      0|      22|                0|               0|          0|          113118|           113118|     16456|                        1|                             1|         1|        1|\n",
      "+-------+------------+-----------------------+--------------------+-----+---+-------------------------+-------+--------+-----------------+----------------+-----------+----------------+-----------------+----------+-------------------------+------------------------------+----------+---------+\n",
      "\n"
     ]
    }
   ],
   "source": [
    "null_count = df.select([count(when(col(c).isNull(), c)).alias(c) for c in df.columns])\n",
    "null_count.show()"
   ]
  },
  {
   "cell_type": "code",
   "execution_count": null,
   "id": "8bb76782",
   "metadata": {},
   "outputs": [
    {
     "name": "stdout",
     "output_type": "stream",
     "text": [
      "+------------------------------------------+\n",
      "|building_class_category                   |\n",
      "+------------------------------------------+\n",
      "|02 TWO FAMILY DWELLINGS                   |\n",
      "|17 CONDO COOPS                            |\n",
      "|49 CONDO WAREHOUSES/FACTORY/INDUS         |\n",
      "|28 COMMERCIAL CONDOS                      |\n",
      "|47 CONDO NON-BUSINESS STORAGE             |\n",
      "|13 CONDOS - ELEVATOR APARTMENTS           |\n",
      "|08 RENTALS - ELEVATOR APARTMENTS          |\n",
      "|09 COOPS - WALKUP APARTMENTS              |\n",
      "|48 CONDO TERRACES/GARDENS/CABANAS         |\n",
      "|12 CONDOS - WALKUP APARTMENTS             |\n",
      "|15 CONDOS - 2-10 UNIT RESIDENTIAL         |\n",
      "|44 CONDO PARKING                          |\n",
      "|16 CONDOS - 2-10 UNIT WITH COMMERCIAL UNIT|\n",
      "|43 CONDO OFFICE BUILDINGS                 |\n",
      "|45 CONDO HOTELS                           |\n",
      "|04 TAX CLASS 1 CONDOS                     |\n",
      "|01 ONE FAMILY DWELLINGS                   |\n",
      "|46 CONDO STORE BUILDINGS                  |\n",
      "|11 SPECIAL CONDO BILLING LOTS             |\n",
      "|21 OFFICE BUILDINGS                       |\n",
      "|10 COOPS - ELEVATOR APARTMENTS            |\n",
      "|42 CONDO CULTURAL/MEDICAL/EDUCATIONAL/ETC |\n",
      "+------------------------------------------+\n",
      "\n"
     ]
    }
   ],
   "source": [
    "df.filter(col(\"land_square_feet\").isNull()).select(\"building_class_category\").distinct().show(truncate=False , n=1000)"
   ]
  },
  {
   "cell_type": "code",
   "execution_count": null,
   "id": "20e69d51",
   "metadata": {},
   "outputs": [
    {
     "name": "stdout",
     "output_type": "stream",
     "text": [
      "+-------+------------------+-----------------------+--------------------+-----+---+-------------------------+--------------------+--------+-----------------+----------------+-----------+----------------+-----------------+----------+-------------------------+------------------------------+----------+----------+\n",
      "|borough|      neighborhood|building_class_category|tax_class_at_present|block|lot|building_class_at_present|             address|zip_code|residential_units|commercial_units|total_units|land_square_feet|gross_square_feet|year_built|tax_class_at_time_of_sale|building_class_at_time_of_sale|sale_price| sale_date|\n",
      "+-------+------------------+-----------------------+--------------------+-----+---+-------------------------+--------------------+--------+-----------------+----------------+-----------+----------------+-----------------+----------+-------------------------+------------------------------+----------+----------+\n",
      "|    4.0|AIRPORT LA GUARDIA|   01 ONE FAMILY DWE...|                   1|  949| 34|                       A5|   19-48 81ST STREET|   11370|                1|               0|          1|          1799.0|           1224.0|      1945|                        1|                            A5|  864195.0|2022-07-15|\n",
      "|    4.0|AIRPORT LA GUARDIA|   01 ONE FAMILY DWE...|                   1|  949| 37|                       A5|   19-54 81ST STREET|   11370|                1|               0|          1|          1799.0|           1224.0|      1945|                        1|                            A5|  815000.0|2022-06-24|\n",
      "|    4.0|AIRPORT LA GUARDIA|   01 ONE FAMILY DWE...|                   1|  976| 55|                       A5|   21-33 80TH STREET|   11370|                1|               0|          1|          1799.0|           1224.0|      1950|                        1|                            A5|  830000.0|2022-09-23|\n",
      "|    4.0|AIRPORT LA GUARDIA|   01 ONE FAMILY DWE...|                   1|  976| 60|                       A5|   21-23 80TH STREET|   11370|                1|               0|          1|          1800.0|           1224.0|      1950|                        1|                            A5|  900000.0|2022-02-08|\n",
      "|    4.0|AIRPORT LA GUARDIA|   03 THREE FAMILY D...|                   1|  949| 56|                       C0|   19-69 80TH STREET|   11370|                3|               0|          3|          2000.0|           2835.0|      1945|                        1|                            C0|       0.0|2022-03-08|\n",
      "|    4.0|AIRPORT LA GUARDIA|   03 THREE FAMILY D...|                   1|  949| 56|                       C0|   19-69 80TH STREET|   11370|                3|               0|          3|          2000.0|           2835.0|      1945|                        1|                            C0|       0.0|2022-04-12|\n",
      "|    4.0|           ARVERNE|   01 ONE FAMILY DWE...|                   1|15830|  5|                       A6|40-10 ROCKAWAY BE...|   11691|                1|               0|          1|          1594.0|            482.0|      1920|                        1|                            A6|  195000.0|2022-02-03|\n",
      "|    4.0|           ARVERNE|   01 ONE FAMILY DWE...|                   1|15830|  8|                       A5|4016 ROCKAWAY BEA...|   11691|                1|               0|          1|          3231.0|           1520.0|      2005|                        1|                            A5|  585000.0|2022-07-27|\n",
      "|    4.0|           ARVERNE|   01 ONE FAMILY DWE...|                   1|15830| 48|                       A5| 335 BEACH 40 STREET|   11691|                1|               0|          1|          2245.0|           1350.0|      2005|                        1|                            A5|       0.0|2022-07-01|\n",
      "|    4.0|           ARVERNE|   01 ONE FAMILY DWE...|                   1|15833| 47|                       A5|341 BEACH 42ND ST...|   11691|                1|               0|          1|          2850.0|           1332.0|      2006|                        1|                            A5|  549999.0|2022-09-23|\n",
      "|    4.0|           ARVERNE|   01 ONE FAMILY DWE...|                   1|15834| 57|                       A5|      329 BEACH 43RD|   11691|                1|               0|          1|          2228.0|           1476.0|      2006|                        1|                            A5|  315000.0|2022-04-15|\n",
      "|    4.0|           ARVERNE|   01 ONE FAMILY DWE...|                   1|15834| 57|                       A5|   329 BEACH 43RD ST|   11691|                1|               0|          1|          2228.0|           1476.0|      2006|                        1|                            A5|  600000.0|2022-11-07|\n",
      "|    4.0|           ARVERNE|   01 ONE FAMILY DWE...|                   1|15835| 63|                       A2|337 BEACH 44TH ST...|   11691|                1|               0|          1|          3431.0|           2268.0|      1920|                        1|                            A2|       0.0|2022-05-25|\n",
      "|    4.0|           ARVERNE|   01 ONE FAMILY DWE...|                   1|15837| 27|                       A2| 354 BEACH 46 STREET|   11691|                1|               0|          1|          3804.0|           2304.0|      1925|                        1|                            A2|  190000.0|2022-08-19|\n",
      "|    4.0|           ARVERNE|   01 ONE FAMILY DWE...|                   1|15837| 56|                       A1|335 BEACH 45TH ST...|   11691|                1|               0|          1|          2470.0|           1048.0|      1925|                        1|                            A1|  505000.0|2022-03-11|\n",
      "|    4.0|           ARVERNE|   01 ONE FAMILY DWE...|                   1|15839| 64|                       A2| 311 BEACH 47 STREET|   11691|                1|               0|          1|          2853.0|           2080.0|      1920|                        1|                            A2|       0.0|2022-08-24|\n",
      "|    4.0|           ARVERNE|   01 ONE FAMILY DWE...|                   1|15849| 22|                       A6|40-01 ROCKAWAY BE...|   11691|                1|               0|          1|          2626.0|            618.0|      1920|                        1|                            A6|  542000.0|2022-03-01|\n",
      "|    4.0|           ARVERNE|   01 ONE FAMILY DWE...|                   1|15850| 30|                       A6| 206 BEACH 42 STREET|   11691|                1|               0|          1|          2000.0|            560.0|      1920|                        1|                            A6|  375000.0|2022-09-23|\n",
      "|    4.0|           ARVERNE|   01 ONE FAMILY DWE...|                   1|15905| 47|                       A5|123 BEACH 62ND ST...|   11692|                1|               0|          1|          4413.0|           2626.0|      2014|                        1|                            A5| 1138000.0|2022-10-14|\n",
      "|    4.0|           ARVERNE|   01 ONE FAMILY DWE...|                   1|15908| 16|                       A0|63-07 BEACH CHANN...|   11692|                1|               0|          1|          4000.0|           1020.0|      1950|                        1|                            A0|       0.0|2022-03-31|\n",
      "+-------+------------------+-----------------------+--------------------+-----+---+-------------------------+--------------------+--------+-----------------+----------------+-----------+----------------+-----------------+----------+-------------------------+------------------------------+----------+----------+\n",
      "only showing top 20 rows\n",
      "\n"
     ]
    }
   ],
   "source": [
    "df.filter(col(\"land_square_feet\").isNotNull()).show()"
   ]
  },
  {
   "cell_type": "markdown",
   "id": "509dd2cd",
   "metadata": {},
   "source": [
    "## Smart Imputation"
   ]
  },
  {
   "cell_type": "code",
   "execution_count": null,
   "id": "3e5b3954",
   "metadata": {},
   "outputs": [],
   "source": [
    "from pyspark.sql.window import Window\n",
    "from pyspark.sql.functions import col, when, expr, lit\n",
    "\n",
    "def smart_imputation(df):\n",
    "    # List of building class categories where land_square_feet is typically irrelevant\n",
    "    zero_land_categories = [\n",
    "        \"CONDO\", \"COOPS\", \"CONDO PARKING\", \"CONDO NON-BUSINESS STORAGE\",\n",
    "        \"CONDO OFFICE BUILDINGS\", \"CONDO STORE BUILDINGS\", \"CONDO HOTELS\",\n",
    "        \"CONDO TERRACES/GARDENS/CABANAS\", \"CONDO WAREHOUSES/FACTORY/INDUS\",\n",
    "        \"CONDO CULTURAL/MEDICAL/EDUCATIONAL/ETC\"\n",
    "    ]\n",
    "\n",
    "    # Create boolean column to identify condo-like properties\n",
    "    df = df.withColumn(\n",
    "        \"is_condo_type\",\n",
    "        col(\"building_class_category\").rlike(\"(?i)\" + \"|\".join(zero_land_categories))\n",
    "    )\n",
    "\n",
    "    # Define windows with increasing generalization\n",
    "    window_detailed = Window.partitionBy(\"building_class_category\", \"borough\", \"neighborhood\")\n",
    "    window_medium = Window.partitionBy(\"building_class_category\", \"borough\")\n",
    "    window_basic = Window.partitionBy(\"building_class_category\")\n",
    "\n",
    "    # Calculate medians\n",
    "    df = (df\n",
    "        .withColumn(\"median_gross_detailed\", expr(\"percentile_approx(gross_square_feet, 0.5)\").over(window_detailed))\n",
    "        .withColumn(\"median_gross_medium\", expr(\"percentile_approx(gross_square_feet, 0.5)\").over(window_medium))\n",
    "        .withColumn(\"median_gross_basic\", expr(\"percentile_approx(gross_square_feet, 0.5)\").over(window_basic))\n",
    "        .withColumn(\"median_land_detailed\", expr(\"percentile_approx(land_square_feet, 0.5)\").over(window_detailed))\n",
    "        .withColumn(\"median_land_medium\", expr(\"percentile_approx(land_square_feet, 0.5)\").over(window_medium))\n",
    "        .withColumn(\"median_land_basic\", expr(\"percentile_approx(land_square_feet, 0.5)\").over(window_basic))\n",
    "    )\n",
    "\n",
    "    # Set flags BEFORE imputation (based on current nulls)\n",
    "    df = df.withColumn(\"gross_sqft_imputed_flag\", col(\"gross_square_feet\").isNull())\n",
    "    df = df.withColumn(\"land_sqft_imputed_flag\", col(\"land_square_feet\").isNull())\n",
    "\n",
    "    # Impute gross_square_feet\n",
    "    df = df.withColumn(\n",
    "        \"gross_square_feet\",\n",
    "        when(col(\"gross_square_feet\").isNotNull(), col(\"gross_square_feet\"))\n",
    "        .when(col(\"median_gross_detailed\").isNotNull(), col(\"median_gross_detailed\"))\n",
    "        .when(col(\"median_gross_medium\").isNotNull(), col(\"median_gross_medium\"))\n",
    "        .otherwise(col(\"median_gross_basic\"))\n",
    "    )\n",
    "\n",
    "    # Impute land_square_feet with conditional logic for condo-like categories\n",
    "    df = df.withColumn(\n",
    "        \"land_square_feet\",\n",
    "        when(col(\"land_square_feet\").isNotNull(), col(\"land_square_feet\"))\n",
    "        .when(col(\"is_condo_type\"), lit(0))  # For condo/coops etc.\n",
    "        .when(col(\"median_land_detailed\").isNotNull(), col(\"median_land_detailed\"))\n",
    "        .when(col(\"median_land_medium\").isNotNull(), col(\"median_land_medium\"))\n",
    "        .otherwise(col(\"median_land_basic\"))\n",
    "    )\n",
    "\n",
    "    # Clean up helper columns\n",
    "    df = df.drop(\n",
    "        \"median_gross_detailed\", \"median_gross_medium\", \"median_gross_basic\",\n",
    "        \"median_land_detailed\", \"median_land_medium\", \"median_land_basic\",\n",
    "        \"is_condo_type\"\n",
    "    )\n",
    "\n",
    "    return df\n"
   ]
  },
  {
   "cell_type": "code",
   "execution_count": null,
   "id": "0d334f39",
   "metadata": {},
   "outputs": [],
   "source": [
    "df_processed = smart_imputation(df)"
   ]
  },
  {
   "cell_type": "code",
   "execution_count": null,
   "id": "1ad8defe",
   "metadata": {},
   "outputs": [],
   "source": [
    "df_processed = df_processed.withColumn(\n",
    "    \"gross_square_feet\",\n",
    "    when(col(\"gross_square_feet\").isNull() & col(\"building_class_category\").contains(\"VACANT\"), 0)\n",
    "    .otherwise(col(\"gross_square_feet\"))\n",
    ").withColumn(\n",
    "    \"land_square_feet\",\n",
    "    when(col(\"land_square_feet\").isNull() & col(\"building_class_category\").contains(\"CONDO\"), 0)\n",
    "    .otherwise(col(\"land_square_feet\"))\n",
    ")\n"
   ]
  },
  {
   "cell_type": "code",
   "execution_count": null,
   "id": "7760a4ed",
   "metadata": {},
   "outputs": [
    {
     "name": "stdout",
     "output_type": "stream",
     "text": [
      "+-------+------------+-----------------------+--------------------+-----+---+-------------------------+-------+--------+-----------------+----------------+-----------+----------------+-----------------+----------+-------------------------+------------------------------+----------+---------+-----------------------+----------------------+\n",
      "|borough|neighborhood|building_class_category|tax_class_at_present|block|lot|building_class_at_present|address|zip_code|residential_units|commercial_units|total_units|land_square_feet|gross_square_feet|year_built|tax_class_at_time_of_sale|building_class_at_time_of_sale|sale_price|sale_date|gross_sqft_imputed_flag|land_sqft_imputed_flag|\n",
      "+-------+------------+-----------------------+--------------------+-----+---+-------------------------+-------+--------+-----------------+----------------+-----------+----------------+-----------------+----------+-------------------------+------------------------------+----------+---------+-----------------------+----------------------+\n",
      "|      0|           0|                      0|                 112|    0|  0|                      112|      0|      22|                0|               0|          0|               0|           112470|     16456|                        1|                             1|         1|        1|                      0|                     0|\n",
      "+-------+------------+-----------------------+--------------------+-----+---+-------------------------+-------+--------+-----------------+----------------+-----------+----------------+-----------------+----------+-------------------------+------------------------------+----------+---------+-----------------------+----------------------+\n",
      "\n"
     ]
    }
   ],
   "source": [
    "null_count = df_processed.select([count(when(col(c).isNull(), c)).alias(c) for c in df_processed.columns])\n",
    "null_count.show()"
   ]
  },
  {
   "cell_type": "code",
   "execution_count": null,
   "id": "40196a0f",
   "metadata": {},
   "outputs": [
    {
     "name": "stdout",
     "output_type": "stream",
     "text": [
      "+-------+-------------+-----------------------+--------------------+-----+----+-------------------------+--------------------+--------+-----------------+----------------+-----------+----------------+-----------------+----------+-------------------------+------------------------------+----------+----------+-----------------------+----------------------+\n",
      "|borough| neighborhood|building_class_category|tax_class_at_present|block| lot|building_class_at_present|             address|zip_code|residential_units|commercial_units|total_units|land_square_feet|gross_square_feet|year_built|tax_class_at_time_of_sale|building_class_at_time_of_sale|sale_price| sale_date|gross_sqft_imputed_flag|land_sqft_imputed_flag|\n",
      "+-------+-------------+-----------------------+--------------------+-----+----+-------------------------+--------------------+--------+-----------------+----------------+-----------+----------------+-----------------+----------+-------------------------+------------------------------+----------+----------+-----------------------+----------------------+\n",
      "|    5.0|  TOTTENVILLE|   02 TWO FAMILY DWE...|                null| 7864|  76|                     null| 549 ROCKAWAY STREET|   10307|                2|             0.0|          0|          5000.0|           2568.0|      2022|                        1|                            B2| 1075272.0|2022-02-17|                   true|                  true|\n",
      "|    1.0|ALPHABET CITY|         17 CONDO COOPS|                   2|  389|1003|                       R9|     99 AVENUE B, 2A|   10009|                0|             0.0|          0|             0.0|             null|      1900|                        2|                            R9|  690000.0|2022-07-01|                   true|                  true|\n",
      "|    1.0|ALPHABET CITY|         17 CONDO COOPS|                   2|  389|1003|                       R9|     99 AVENUE B, 2C|   10009|                0|             0.0|          0|             0.0|             null|      1900|                        2|                            R9|  375000.0|2022-12-29|                   true|                  true|\n",
      "|    1.0|ALPHABET CITY|         17 CONDO COOPS|                   2|  389|1003|                       R9|     99 AVENUE B, 5D|   10009|                0|             0.0|          0|             0.0|             null|      1900|                        2|                            R9|  347500.0|2022-09-14|                   true|                  true|\n",
      "|    1.0|ALPHABET CITY|         17 CONDO COOPS|                   2|  399|1002|                       R9|   50 AVENUE A, PH6B|   10009|                0|             0.0|          0|             0.0|             null|      1920|                        2|                            R9| 1750000.0|2022-03-29|                   true|                  true|\n",
      "|    1.0|ALPHABET CITY|         17 CONDO COOPS|                   2|  407|1003|                       R9|    214 AVENUE A, 1B|   10009|                0|             0.0|          0|             0.0|             null|      1920|                        2|                            R9|  450000.0|2022-09-28|                   true|                  true|\n",
      "|    1.0|ALPHABET CITY|         17 CONDO COOPS|                   2|  407|1003|                       R9|    214 AVENUE A, 3C|   10009|                0|             0.0|          0|             0.0|             null|      1920|                        2|                            R9|  785000.0|2022-03-29|                   true|                  true|\n",
      "|    1.0|ALPHABET CITY|         17 CONDO COOPS|                   2|  407|1003|                       R9|    214 AVENUE A, 3D|   10009|                0|             0.0|          0|             0.0|             null|      1920|                        2|                            R9|  850000.0|2022-04-15|                   true|                  true|\n",
      "|    1.0|ALPHABET CITY|         17 CONDO COOPS|                   2|  407|1003|                       R9|  214 AVENUE A, TERR|   10009|                0|             0.0|          0|             0.0|             null|      1920|                        2|                            R9|  838000.0|2022-11-28|                   true|                  true|\n",
      "|    1.0|ALPHABET CITY|         17 CONDO COOPS|                   2|  389|1003|                       R9|     99 AVENUE B, 4A|   10009|                0|             0.0|          0|             0.0|             null|      1900|                        2|                            R9|  665000.0|2024-09-13|                   true|                  true|\n",
      "|    1.0|ALPHABET CITY|         17 CONDO COOPS|                   2|  389|1003|                       R9|     99 AVENUE B, 4F|   10009|                0|             0.0|          0|             0.0|             null|      1900|                        2|                            R9|       0.0|2024-04-26|                   true|                  true|\n",
      "|    1.0|ALPHABET CITY|         17 CONDO COOPS|                   2|  398|1102|                       R9|186 EAST 2 STREET, 4|   10009|                0|             0.0|          0|             0.0|             null|      1920|                        2|                            R9|  450000.0|2024-12-11|                   true|                  true|\n",
      "|    1.0|ALPHABET CITY|         17 CONDO COOPS|                   2|  398|1102|                       R9|186 EAST 2ND STRE...|   10009|                0|             0.0|          0|             0.0|             null|      1920|                        2|                            R9|  305000.0|2024-01-23|                   true|                  true|\n",
      "|    1.0|ALPHABET CITY|         17 CONDO COOPS|                   2|  407|1003|                       R9|    214 AVENUE A, 1F|   10009|                0|             0.0|          0|             0.0|             null|      1920|                        2|                            R9|  425000.0|2024-02-15|                   true|                  true|\n",
      "|    1.0|ALPHABET CITY|         17 CONDO COOPS|                   2|  407|1003|                       R9|    214 AVENUE A, 3D|   10009|                0|             0.0|          0|             0.0|             null|      1920|                        2|                            R9|  825000.0|2024-10-31|                   true|                  true|\n",
      "|    1.0|ALPHABET CITY|         17 CONDO COOPS|                   2|  389|1003|                       R9|     99 AVENUE B, 3E|   10009|                0|             0.0|          0|             0.0|             null|      1900|                        2|                            R9| 1325000.0|2023-04-26|                   true|                  true|\n",
      "|    1.0|ALPHABET CITY|         17 CONDO COOPS|                   2|  399|1002|                       R9|     50 AVENUE A, 5D|   10009|                0|             0.0|          0|             0.0|             null|      1920|                        2|                            R9| 1200000.0|2023-10-05|                   true|                  true|\n",
      "|    1.0|ALPHABET CITY|         17 CONDO COOPS|                   2|  407|1003|                       R9| 214 AVENUE A, 2E/3E|   10009|                0|             0.0|          0|             0.0|             null|      1920|                        2|                            R9| 1405000.0|2023-02-22|                   true|                  true|\n",
      "|    1.0|      CHELSEA|         17 CONDO COOPS|                   2|  718|1004|                       R9|177 NINTH AVENUE, 3G|   10011|                0|             0.0|          0|             0.0|             null|      2008|                        2|                            R9|       0.0|2022-10-21|                   true|                  true|\n",
      "|    1.0|      CHELSEA|         17 CONDO COOPS|                   2|  718|1004|                       R9|177 NINTH AVENUE, 4A|   10011|                0|             0.0|          0|             0.0|             null|      2008|                        2|                            R9|   1.225E7|2022-11-15|                   true|                  true|\n",
      "+-------+-------------+-----------------------+--------------------+-----+----+-------------------------+--------------------+--------+-----------------+----------------+-----------+----------------+-----------------+----------+-------------------------+------------------------------+----------+----------+-----------------------+----------------------+\n",
      "only showing top 20 rows\n",
      "\n"
     ]
    }
   ],
   "source": [
    "df_processed.filter(\n",
    "    (col(\"land_sqft_imputed_flag\") == True) | (col(\"gross_sqft_imputed_flag\") == True)\n",
    ").show()"
   ]
  },
  {
   "cell_type": "code",
   "execution_count": null,
   "id": "4f08ba33",
   "metadata": {},
   "outputs": [
    {
     "name": "stdout",
     "output_type": "stream",
     "text": [
      "+------------------------------------------+-----+\n",
      "|building_class_category                   |count|\n",
      "+------------------------------------------+-----+\n",
      "|10 COOPS - ELEVATOR APARTMENTS            |40672|\n",
      "|13 CONDOS - ELEVATOR APARTMENTS           |40265|\n",
      "|09 COOPS - WALKUP APARTMENTS              |7704 |\n",
      "|04 TAX CLASS 1 CONDOS                     |4699 |\n",
      "|15 CONDOS - 2-10 UNIT RESIDENTIAL         |4388 |\n",
      "|44 CONDO PARKING                          |4238 |\n",
      "|17 CONDO COOPS                            |3661 |\n",
      "|12 CONDOS - WALKUP APARTMENTS             |2652 |\n",
      "|47 CONDO NON-BUSINESS STORAGE             |1245 |\n",
      "|43 CONDO OFFICE BUILDINGS                 |920  |\n",
      "|28 COMMERCIAL CONDOS                      |700  |\n",
      "|46 CONDO STORE BUILDINGS                  |518  |\n",
      "|16 CONDOS - 2-10 UNIT WITH COMMERCIAL UNIT|331  |\n",
      "|45 CONDO HOTELS                           |258  |\n",
      "|48 CONDO TERRACES/GARDENS/CABANAS         |107  |\n",
      "|49 CONDO WAREHOUSES/FACTORY/INDUS         |73   |\n",
      "|42 CONDO CULTURAL/MEDICAL/EDUCATIONAL/ETC |39   |\n",
      "+------------------------------------------+-----+\n",
      "\n"
     ]
    }
   ],
   "source": [
    "df_remaining_nulls = df_processed.filter(col(\"gross_square_feet\").isNull() | col(\"land_square_feet\").isNull())\n",
    "df_remaining_nulls.groupBy(\"building_class_category\").count().orderBy(\"count\", ascending=False).show(50,truncate=False)\n"
   ]
  },
  {
   "cell_type": "code",
   "execution_count": null,
   "id": "929b2677",
   "metadata": {},
   "outputs": [
    {
     "name": "stdout",
     "output_type": "stream",
     "text": [
      "+------------------------------------------+-----+\n",
      "|building_class_category                   |count|\n",
      "+------------------------------------------+-----+\n",
      "|10 COOPS - ELEVATOR APARTMENTS            |40672|\n",
      "|13 CONDOS - ELEVATOR APARTMENTS           |40265|\n",
      "|09 COOPS - WALKUP APARTMENTS              |7704 |\n",
      "|04 TAX CLASS 1 CONDOS                     |4699 |\n",
      "|15 CONDOS - 2-10 UNIT RESIDENTIAL         |4388 |\n",
      "|44 CONDO PARKING                          |4238 |\n",
      "|17 CONDO COOPS                            |3661 |\n",
      "|12 CONDOS - WALKUP APARTMENTS             |2652 |\n",
      "|47 CONDO NON-BUSINESS STORAGE             |1245 |\n",
      "|43 CONDO OFFICE BUILDINGS                 |920  |\n",
      "|28 COMMERCIAL CONDOS                      |700  |\n",
      "|46 CONDO STORE BUILDINGS                  |518  |\n",
      "|16 CONDOS - 2-10 UNIT WITH COMMERCIAL UNIT|331  |\n",
      "|45 CONDO HOTELS                           |258  |\n",
      "|48 CONDO TERRACES/GARDENS/CABANAS         |107  |\n",
      "|49 CONDO WAREHOUSES/FACTORY/INDUS         |73   |\n",
      "|42 CONDO CULTURAL/MEDICAL/EDUCATIONAL/ETC |39   |\n",
      "+------------------------------------------+-----+\n",
      "\n"
     ]
    }
   ],
   "source": [
    "df_processed.filter(col(\"gross_square_feet\").isNull()) \\\n",
    "  .groupBy(\"building_class_category\") \\\n",
    "  .count() \\\n",
    "  .orderBy(\"count\", ascending=False) \\\n",
    "  .show(50, truncate=False)\n"
   ]
  },
  {
   "cell_type": "code",
   "execution_count": null,
   "id": "0a364482",
   "metadata": {},
   "outputs": [],
   "source": [
    "def impute_gross_square_feet(df):\n",
    "    # 1️⃣ Special case: Impute zero for non-residential condo types\n",
    "    df = df.withColumn(\n",
    "        \"gross_square_feet\",\n",
    "        when(\n",
    "            col(\"building_class_category\").isin(\n",
    "                \"44 CONDO PARKING\",\n",
    "                \"47 CONDO NON-BUSINESS STORAGE\",\n",
    "                \"48 CONDO TERRACES/GARDENS/CABANAS\"\n",
    "            ),\n",
    "            lit(0)\n",
    "        ).otherwise(col(\"gross_square_feet\"))\n",
    "    )\n",
    "\n",
    "    # 2️⃣ Smart imputation by neighborhood + building class\n",
    "    window_neigh_class = Window.partitionBy(\"neighborhood\", \"building_class_category\")\n",
    "    df = df.withColumn(\n",
    "        \"median_gross_local\",\n",
    "        expr(\"percentile_approx(gross_square_feet, 0.5)\").over(window_neigh_class)\n",
    "    )\n",
    "    df = df.withColumn(\n",
    "        \"gross_square_feet\",\n",
    "        when(col(\"gross_square_feet\").isNotNull(), col(\"gross_square_feet\"))\n",
    "        .otherwise(col(\"median_gross_local\"))\n",
    "    ).drop(\"median_gross_local\")\n",
    "\n",
    "    # 3️⃣ Fallback imputation by building_class_category only\n",
    "    window_class = Window.partitionBy(\"building_class_category\")\n",
    "    df = df.withColumn(\n",
    "        \"median_gross_category\",\n",
    "        expr(\"percentile_approx(gross_square_feet, 0.5)\").over(window_class)\n",
    "    )\n",
    "    df = df.withColumn(\n",
    "        \"gross_square_feet\",\n",
    "        when(col(\"gross_square_feet\").isNotNull(), col(\"gross_square_feet\"))\n",
    "        .otherwise(col(\"median_gross_category\"))\n",
    "    ).drop(\"median_gross_category\")\n",
    "\n",
    "    return df\n"
   ]
  },
  {
   "cell_type": "code",
   "execution_count": null,
   "id": "e16c2eaa",
   "metadata": {},
   "outputs": [],
   "source": [
    "df_processed = impute_gross_square_feet(df_processed)"
   ]
  },
  {
   "cell_type": "code",
   "execution_count": null,
   "id": "5374479e",
   "metadata": {},
   "outputs": [
    {
     "name": "stdout",
     "output_type": "stream",
     "text": [
      "+-------+------------+-----------------------+--------------------+-----+---+-------------------------+-------+--------+-----------------+----------------+-----------+----------------+-----------------+----------+-------------------------+------------------------------+----------+---------+-----------------------+----------------------+\n",
      "|borough|neighborhood|building_class_category|tax_class_at_present|block|lot|building_class_at_present|address|zip_code|residential_units|commercial_units|total_units|land_square_feet|gross_square_feet|year_built|tax_class_at_time_of_sale|building_class_at_time_of_sale|sale_price|sale_date|gross_sqft_imputed_flag|land_sqft_imputed_flag|\n",
      "+-------+------------+-----------------------+--------------------+-----+---+-------------------------+-------+--------+-----------------+----------------+-----------+----------------+-----------------+----------+-------------------------+------------------------------+----------+---------+-----------------------+----------------------+\n",
      "|      0|           0|                      0|                 112|    0|  0|                      112|      0|      22|                0|               0|          0|               0|           106880|     16456|                        1|                             1|         1|        1|                      0|                     0|\n",
      "+-------+------------+-----------------------+--------------------+-----+---+-------------------------+-------+--------+-----------------+----------------+-----------+----------------+-----------------+----------+-------------------------+------------------------------+----------+---------+-----------------------+----------------------+\n",
      "\n"
     ]
    }
   ],
   "source": [
    "null_count = df_processed.select([count(when(col(c).isNull(), c)).alias(c) for c in df_processed.columns])\n",
    "null_count.show()"
   ]
  },
  {
   "cell_type": "code",
   "execution_count": null,
   "id": "2ad1e6d6",
   "metadata": {},
   "outputs": [],
   "source": [
    "# Step 1: Impute based on (borough, neighborhood, building_class_category)\n",
    "w1 = Window.partitionBy(\"borough\", \"neighborhood\", \"building_class_category\")\n",
    "df_processed = df_processed.withColumn(\"year_built_lvl1\", round(avg(\"year_built\").over(w1)))\n",
    "\n",
    "# Step 2: Impute based on (borough, building_class_category)\n",
    "w2 = Window.partitionBy(\"borough\", \"building_class_category\")\n",
    "df_processed = df_processed.withColumn(\"year_built_lvl2\", round(avg(\"year_built\").over(w2)))\n",
    "\n",
    "# Step 3: Impute based on (building_class_category)\n",
    "w3 = Window.partitionBy(\"building_class_category\")\n",
    "df_processed = df_processed.withColumn(\"year_built_lvl3\", round(avg(\"year_built\").over(w3)))\n",
    "\n",
    "# Step 4: Overall median as fallback\n",
    "overall_median = df_processed.approxQuantile(\"year_built\", [0.5], 0.01)[0]\n",
    "\n",
    "# Step 5: Apply hierarchical imputation\n",
    "df_processed = df_processed.withColumn(\n",
    "    \"year_built_imputed\",\n",
    "    when(col(\"year_built\").isNotNull(), col(\"year_built\"))\n",
    "    .when(col(\"year_built_lvl1\").isNotNull(), col(\"year_built_lvl1\"))\n",
    "    .when(col(\"year_built_lvl2\").isNotNull(), col(\"year_built_lvl2\"))\n",
    "    .when(col(\"year_built_lvl3\").isNotNull(), col(\"year_built_lvl3\"))\n",
    ")\n",
    "\n",
    "# Optional: Replace original year_built column\n",
    "df_processed = df_processed.drop(\"year_built\")\n",
    "\n",
    "df_processed = df_processed.withColumn(\n",
    "    \"year_built\", \n",
    "    col(\"year_built_imputed\").cast(IntegerType())\n",
    ")\n",
    "\n",
    "# Clean up helper columns\n",
    "df_processed = df_processed.drop(\"year_built_lvl1\", \"year_built_lvl2\", \"year_built_lvl3\")"
   ]
  },
  {
   "cell_type": "code",
   "execution_count": null,
   "id": "58852294",
   "metadata": {},
   "outputs": [],
   "source": [
    "df_cleaned = df_processed.na.drop(subset=[\"tax_class_at_present\", \"building_class_at_present\", \"zip_code\",\"tax_class_at_time_of_sale\", \"building_class_at_time_of_sale\", \"sale_price\", \"sale_date\"])\n"
   ]
  },
  {
   "cell_type": "code",
   "execution_count": null,
   "id": "320c606a",
   "metadata": {},
   "outputs": [
    {
     "name": "stdout",
     "output_type": "stream",
     "text": [
      "+-------+------------+-----------------------+--------------------+-----+---+-------------------------+-------+--------+-----------------+----------------+-----------+----------------+-----------------+-------------------------+------------------------------+----------+---------+-----------------------+----------------------+------------------+----------+\n",
      "|borough|neighborhood|building_class_category|tax_class_at_present|block|lot|building_class_at_present|address|zip_code|residential_units|commercial_units|total_units|land_square_feet|gross_square_feet|tax_class_at_time_of_sale|building_class_at_time_of_sale|sale_price|sale_date|gross_sqft_imputed_flag|land_sqft_imputed_flag|year_built_imputed|year_built|\n",
      "+-------+------------+-----------------------+--------------------+-----+---+-------------------------+-------+--------+-----------------+----------------+-----------+----------------+-----------------+-------------------------+------------------------------+----------+---------+-----------------------+----------------------+------------------+----------+\n",
      "|      0|           0|                      0|                   0|    0|  0|                        0|      0|       0|                0|               0|          0|               0|           106784|                        0|                             0|         0|        0|                      0|                     0|                 0|         0|\n",
      "+-------+------------+-----------------------+--------------------+-----+---+-------------------------+-------+--------+-----------------+----------------+-----------+----------------+-----------------+-------------------------+------------------------------+----------+---------+-----------------------+----------------------+------------------+----------+\n",
      "\n"
     ]
    }
   ],
   "source": [
    "null_count = df_cleaned.select([count(when(col(c).isNull(), c)).alias(c) for c in df_cleaned.columns])\n",
    "null_count.show()"
   ]
  },
  {
   "cell_type": "code",
   "execution_count": null,
   "id": "e39f7bc9",
   "metadata": {},
   "outputs": [
    {
     "name": "stdout",
     "output_type": "stream",
     "text": [
      "+-------+-------------+-----------------------+--------------------+-----+---+-------------------------+--------------------+--------+-----------------+----------------+-----------+----------------+-----------------+-------------------------+------------------------------+----------+----------+-----------------------+----------------------+------------------+----------+\n",
      "|borough| neighborhood|building_class_category|tax_class_at_present|block|lot|building_class_at_present|             address|zip_code|residential_units|commercial_units|total_units|land_square_feet|gross_square_feet|tax_class_at_time_of_sale|building_class_at_time_of_sale|sale_price| sale_date|gross_sqft_imputed_flag|land_sqft_imputed_flag|year_built_imputed|year_built|\n",
      "+-------+-------------+-----------------------+--------------------+-----+---+-------------------------+--------------------+--------+-----------------+----------------+-----------+----------------+-----------------+-------------------------+------------------------------+----------+----------+-----------------------+----------------------+------------------+----------+\n",
      "|    1.0|ALPHABET CITY|   02 TWO FAMILY DWE...|                   1|  377|  1|                       S2|        110 AVENUE C|   10009|                2|               1|          3|          1502.0|           2790.0|                        1|                            S2| 2999999.0|2022-09-15|                  false|                 false|            1901.0|      1901|\n",
      "|    1.0|ALPHABET CITY|   02 TWO FAMILY DWE...|                   1|  372| 36|                       S2|         19 AVENUE D|   10009|                2|               1|          3|           826.0|           2481.0|                        1|                            S2|       1.0|2023-01-20|                  false|                 false|            1900.0|      1900|\n",
      "|    1.0|ALPHABET CITY|   02 TWO FAMILY DWE...|                   1|  386|  7|                       S2|         49 AVENUE B|   10009|                2|               1|          3|          1725.0|           2304.0|                        1|                            S2|       0.0|2023-11-02|                  false|                 false|            1880.0|      1880|\n",
      "|    1.0|ALPHABET CITY|   02 TWO FAMILY DWE...|                   1|  386|  8|                       S2|         51 AVENUE B|   10009|                2|               1|          3|          1530.0|           1920.0|                        1|                            S2|       0.0|2023-11-02|                  false|                 false|            1880.0|      1880|\n",
      "|    1.0|      CHELSEA|   02 TWO FAMILY DWE...|                   1|  719| 59|                       B9|       428 WEST 22ND|   10011|                2|               0|          2|          1821.0|           3230.0|                        1|                            B9| 5300000.0|2022-04-28|                  false|                 false|            1910.0|      1910|\n",
      "|    1.0|      CHELSEA|   02 TWO FAMILY DWE...|                   1|  719| 68|                       B2|446 WEST 22ND STREET|   10011|                2|               0|          2|          1080.0|           3580.0|                        1|                            B2|       0.0|2024-08-01|                  false|                 false|            1920.0|      1920|\n",
      "|    1.0|      CHELSEA|   02 TWO FAMILY DWE...|                   1|  742| 19|                       B9|331 WEST 18TH STREET|   10011|                2|               0|          2|          2147.0|           4554.0|                        1|                            B9| 5000000.0|2024-11-21|                  false|                 false|            1910.0|      1910|\n",
      "|    1.0|      CHELSEA|   02 TWO FAMILY DWE...|                   1|  743| 78|                       B9|358 WEST 20TH STREET|   10011|                2|               0|          2|          1533.0|           3840.0|                        1|                            B9|       0.0|2024-01-12|                  false|                 false|            1910.0|      1910|\n",
      "|    1.0|      CHELSEA|   02 TWO FAMILY DWE...|                   1|  743| 78|                       B9|358 WEST 20TH STREET|   10011|                2|               0|          2|          1533.0|           3840.0|                        1|                            B9| 5809656.0|2024-07-24|                  false|                 false|            1910.0|      1910|\n",
      "|    1.0|      CHELSEA|   02 TWO FAMILY DWE...|                   1|  744| 30|                       B9|313 WEST 20TH STREET|   10011|                2|               0|          2|          2300.0|           9200.0|                        1|                            B9|    1.07E7|2023-08-10|                  false|                 false|            1900.0|      1900|\n",
      "|    1.0|      CHELSEA|   02 TWO FAMILY DWE...|                   1|  745| 51|                       B9|324 WEST 22ND STREET|   10011|                2|               0|          2|          2049.0|           4648.0|                        1|                            B9| 6250000.0|2023-10-18|                  false|                 false|            1910.0|      1910|\n",
      "|    1.0|      CHELSEA|   02 TWO FAMILY DWE...|                   1|  745| 64|                       B1|         350 W 22 ST|   10011|                2|               0|          2|          2057.0|           4640.0|                        1|                            B1|       0.0|2023-07-21|                  false|                 false|            1910.0|      1910|\n",
      "|    1.0|    CHINATOWN|   02 TWO FAMILY DWE...|                   1|  199| 26|                       S2|  73 MULBERRY STREET|   10013|                2|               1|          3|          2500.0|           3500.0|                        1|                            S2|       0.0|2024-04-02|                  false|                 false|            1925.0|      1925|\n",
      "|    1.0|    CHINATOWN|   02 TWO FAMILY DWE...|                   1|  279| 14|                       B1|     9 OLIVER STREET|   10038|                2|               0|          2|           944.0|           3600.0|                        1|                            B1|       0.0|2023-03-17|                  false|                 false|            1901.0|      1901|\n",
      "|    1.0|      CLINTON|   02 TWO FAMILY DWE...|                   1| 1060| 21|                       B9|419 WEST 50TH STREET|   10019|                2|               0|          2|          1674.0|           2500.0|                        1|                            B9| 3165000.0|2022-03-31|                  false|                 false|            1920.0|      1920|\n",
      "|    1.0|      CLINTON|   02 TWO FAMILY DWE...|                   1| 1060|121|                       B9|421 WEST 50TH STREET|   10019|                2|               0|          2|          1674.0|           3700.0|                        1|                            B9| 3665000.0|2022-03-31|                  false|                 false|            1920.0|      1920|\n",
      "|    1.0|      CLINTON|   02 TWO FAMILY DWE...|                   1| 1053| 15|                       B9|439 WEST 43RD STREET|   10036|                2|               0|          2|          1858.0|           3312.0|                        1|                            B9| 3250000.0|2024-11-19|                  false|                 false|            1899.0|      1899|\n",
      "|    1.0| EAST VILLAGE|   02 TWO FAMILY DWE...|                   1|  434| 55|                       S2| 405 EAST 6TH STREET|   10009|                2|               1|          3|          1953.0|           4872.0|                        1|                            S2|      10.0|2022-01-13|                  false|                 false|            1899.0|      1899|\n",
      "|    1.0| EAST VILLAGE|   02 TWO FAMILY DWE...|                   1|  467| 52|                       B9|219 EAST 11TH STREET|   10003|                2|               0|          2|          1700.0|           3740.0|                        1|                            B9|       0.0|2022-05-12|                  false|                 false|            1899.0|      1899|\n",
      "|    1.0| EAST VILLAGE|   02 TWO FAMILY DWE...|                   1|  443| 28|                       B9|       83 2ND STREET|   10003|                2|               0|          2|          2083.0|           5000.0|                        1|                            B9| 5750000.0|2024-05-23|                  false|                 false|            1900.0|      1900|\n",
      "+-------+-------------+-----------------------+--------------------+-----+---+-------------------------+--------------------+--------+-----------------+----------------+-----------+----------------+-----------------+-------------------------+------------------------------+----------+----------+-----------------------+----------------------+------------------+----------+\n",
      "only showing top 20 rows\n",
      "\n"
     ]
    }
   ],
   "source": [
    "df_cleaned.show()"
   ]
  },
  {
   "cell_type": "code",
   "execution_count": null,
   "id": "ae593f90",
   "metadata": {},
   "outputs": [
    {
     "name": "stdout",
     "output_type": "stream",
     "text": [
      "root\n",
      " |-- borough: double (nullable = true)\n",
      " |-- neighborhood: string (nullable = true)\n",
      " |-- building_class_category: string (nullable = true)\n",
      " |-- tax_class_at_present: string (nullable = true)\n",
      " |-- block: integer (nullable = true)\n",
      " |-- lot: integer (nullable = true)\n",
      " |-- building_class_at_present: string (nullable = true)\n",
      " |-- address: string (nullable = true)\n",
      " |-- zip_code: integer (nullable = true)\n",
      " |-- residential_units: integer (nullable = true)\n",
      " |-- commercial_units: string (nullable = true)\n",
      " |-- total_units: integer (nullable = false)\n",
      " |-- land_square_feet: double (nullable = true)\n",
      " |-- gross_square_feet: double (nullable = true)\n",
      " |-- tax_class_at_time_of_sale: integer (nullable = true)\n",
      " |-- building_class_at_time_of_sale: string (nullable = true)\n",
      " |-- sale_price: double (nullable = true)\n",
      " |-- sale_date: string (nullable = true)\n",
      " |-- gross_sqft_imputed_flag: boolean (nullable = false)\n",
      " |-- land_sqft_imputed_flag: boolean (nullable = false)\n",
      " |-- year_built_imputed: double (nullable = true)\n",
      " |-- year_built: integer (nullable = true)\n",
      "\n"
     ]
    }
   ],
   "source": [
    "df_cleaned.printSchema()"
   ]
  },
  {
   "cell_type": "markdown",
   "id": "8e4fc6a5",
   "metadata": {},
   "source": [
    "## Fix Borough name"
   ]
  },
  {
   "cell_type": "code",
   "execution_count": null,
   "id": "bf31699f",
   "metadata": {},
   "outputs": [],
   "source": [
    "df_cleaned= df_cleaned.withColumn(\"borough_name\",\n",
    "    when(col(\"borough\") == 1.0, \"MANHATTAN\")\n",
    "    .when(col(\"borough\") == 2.0, \"BRONX\")\n",
    "    .when(col(\"borough\") == 3.0, \"BROOKLYN\")\n",
    "    .when(col(\"borough\") == 4.0, \"QUEENS\")\n",
    "    .when(col(\"borough\") == 5.0, \"STATEN ISLAND\")\n",
    "    .otherwise(\"UNKNOWN\")\n",
    ").drop(\"borough\",\"year_built_imputed\",\"land_sqft_imputed_flag\",\"gross_sqft_imputed_flag\")"
   ]
  },
  {
   "cell_type": "code",
   "execution_count": null,
   "id": "21fae97e",
   "metadata": {},
   "outputs": [
    {
     "name": "stdout",
     "output_type": "stream",
     "text": [
      "+-------------+-----------------------+--------------------+-----+---+-------------------------+-------------+--------+-----------------+----------------+-----------+----------------+-----------------+-------------------------+------------------------------+----------+----------+----------+------------+\n",
      "| neighborhood|building_class_category|tax_class_at_present|block|lot|building_class_at_present|      address|zip_code|residential_units|commercial_units|total_units|land_square_feet|gross_square_feet|tax_class_at_time_of_sale|building_class_at_time_of_sale|sale_price| sale_date|year_built|borough_name|\n",
      "+-------------+-----------------------+--------------------+-----+---+-------------------------+-------------+--------+-----------------+----------------+-----------+----------------+-----------------+-------------------------+------------------------------+----------+----------+----------+------------+\n",
      "|ALPHABET CITY|   02 TWO FAMILY DWE...|                   1|  377|  1|                       S2| 110 AVENUE C|   10009|                2|               1|          3|          1502.0|           2790.0|                        1|                            S2| 2999999.0|2022-09-15|      1901|   MANHATTAN|\n",
      "|ALPHABET CITY|   02 TWO FAMILY DWE...|                   1|  372| 36|                       S2|  19 AVENUE D|   10009|                2|               1|          3|           826.0|           2481.0|                        1|                            S2|       1.0|2023-01-20|      1900|   MANHATTAN|\n",
      "|ALPHABET CITY|   02 TWO FAMILY DWE...|                   1|  386|  7|                       S2|  49 AVENUE B|   10009|                2|               1|          3|          1725.0|           2304.0|                        1|                            S2|       0.0|2023-11-02|      1880|   MANHATTAN|\n",
      "|ALPHABET CITY|   02 TWO FAMILY DWE...|                   1|  386|  8|                       S2|  51 AVENUE B|   10009|                2|               1|          3|          1530.0|           1920.0|                        1|                            S2|       0.0|2023-11-02|      1880|   MANHATTAN|\n",
      "|      CHELSEA|   02 TWO FAMILY DWE...|                   1|  719| 59|                       B9|428 WEST 22ND|   10011|                2|               0|          2|          1821.0|           3230.0|                        1|                            B9| 5300000.0|2022-04-28|      1910|   MANHATTAN|\n",
      "+-------------+-----------------------+--------------------+-----+---+-------------------------+-------------+--------+-----------------+----------------+-----------+----------------+-----------------+-------------------------+------------------------------+----------+----------+----------+------------+\n",
      "only showing top 5 rows\n",
      "\n"
     ]
    }
   ],
   "source": [
    "df_cleaned.show(5)"
   ]
  },
  {
   "cell_type": "code",
   "execution_count": null,
   "id": "8b250547",
   "metadata": {},
   "outputs": [
    {
     "name": "stdout",
     "output_type": "stream",
     "text": [
      "+------------+-----------------------+--------------------+-----+---+-------------------------+-------+--------+-----------------+----------------+-----------+----------------+-----------------+-------------------------+------------------------------+----------+---------+----------+------------+\n",
      "|neighborhood|building_class_category|tax_class_at_present|block|lot|building_class_at_present|address|zip_code|residential_units|commercial_units|total_units|land_square_feet|gross_square_feet|tax_class_at_time_of_sale|building_class_at_time_of_sale|sale_price|sale_date|year_built|borough_name|\n",
      "+------------+-----------------------+--------------------+-----+---+-------------------------+-------+--------+-----------------+----------------+-----------+----------------+-----------------+-------------------------+------------------------------+----------+---------+----------+------------+\n",
      "|           0|                      0|                   0|    0|  0|                        0|      0|       0|                0|               0|          0|               0|           106784|                        0|                             0|         0|        0|         0|           0|\n",
      "+------------+-----------------------+--------------------+-----+---+-------------------------+-------+--------+-----------------+----------------+-----------+----------------+-----------------+-------------------------+------------------------------+----------+---------+----------+------------+\n",
      "\n"
     ]
    }
   ],
   "source": [
    "null_count = df_cleaned.select([count(when(col(c).isNull(), c)).alias(c) for c in df_cleaned.columns])\n",
    "null_count.show()"
   ]
  },
  {
   "cell_type": "code",
   "execution_count": null,
   "id": "61493f03",
   "metadata": {},
   "outputs": [],
   "source": [
    "df_cleaned.write.mode(\"overwrite\").csv(\"hdfs://namenode:8020/data/silver/nyc_silver.csv\")\n"
   ]
  },
  {
   "cell_type": "code",
   "execution_count": null,
   "id": "7f421883",
   "metadata": {},
   "outputs": [
    {
     "ename": "",
     "evalue": "",
     "output_type": "error",
     "traceback": [
      "\u001b[1;31mFailed to connect to the remote Jupyter Server 'http://127.0.0.1:8888/'. Verify the server is running and reachable. (Failed to connect to the remote Jupyter Server 'http://127.0.0.1:8888/'. Verify the server is running and reachable. (Forbidden).)."
     ]
    }
   ],
   "source": [
    "df_cleaned.printSchema()"
   ]
  }
 ],
 "metadata": {
  "kernelspec": {
   "display_name": "Python 3",
   "language": "python",
   "name": "python3"
  },
  "language_info": {
   "codemirror_mode": {
    "name": "ipython",
    "version": 3
   },
   "file_extension": ".py",
   "mimetype": "text/x-python",
   "name": "python",
   "nbconvert_exporter": "python",
   "pygments_lexer": "ipython3",
   "version": "3.9.4"
  }
 },
 "nbformat": 4,
 "nbformat_minor": 5
}
