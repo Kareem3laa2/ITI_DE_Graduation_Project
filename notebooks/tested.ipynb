{
 "cells": [
  {
   "cell_type": "code",
   "execution_count": 1,
   "id": "d0543159",
   "metadata": {},
   "outputs": [],
   "source": [
    "from pyspark.sql import SparkSession\n",
    "from pyspark.sql.functions import *"
   ]
  },
  {
   "cell_type": "code",
   "execution_count": 2,
   "id": "04e93e2f",
   "metadata": {},
   "outputs": [],
   "source": [
    "spark = SparkSession.builder \\\n",
    "    .appName(\"Cleaning\") \\\n",
    "    .master(\"spark://spark-master:7077\") \\\n",
    "    .config(\"spark.hadoop.fs.defaultFS\", \"hdfs://namenode:8020\") \\\n",
    "    .getOrCreate()"
   ]
  },
  {
   "cell_type": "code",
   "execution_count": 3,
   "id": "86576995",
   "metadata": {},
   "outputs": [
    {
     "name": "stdout",
     "output_type": "stream",
     "text": [
      "+-------+------------+-----------------------+--------------------+------+-----+--------+-------------------------+------------------+----------------+--------+-----------------+----------------+-----------+----------------+-----------------+----------+-------------------------+------------------------------+----------+----------+\n",
      "|borough|neighborhood|building_class_category|tax_class_at_present|block |lot  |easement|building_class_at_present|address           |apartment_number|zip_code|residential_units|commercial_units|total_units|land_square_feet|gross_square_feet|year_built|tax_class_at_time_of_sale|building_class_at_time_of_sale|sale_price|sale_date |\n",
      "+-------+------------+-----------------------+--------------------+------+-----+--------+-------------------------+------------------+----------------+--------+-----------------+----------------+-----------+----------------+-----------------+----------+-------------------------+------------------------------+----------+----------+\n",
      "|3.0    |BATH BEACH  |01 ONE FAMILY DWELLINGS|1                   |6360.0|56.0 |null    |A5                       |30 BAY 10         |null            |11228.0 |1.0              |0.0             |1.0        |1546.0          |1428.0           |1930.0    |1.0                      |A5                            |75000.0   |2022-06-01|\n",
      "|3.0    |BATH BEACH  |01 ONE FAMILY DWELLINGS|1                   |6360.0|157.0|null    |A5                       |36 BAY 10TH STREET|null            |11228.0 |1.0              |0.0             |1.0        |1547.0          |1428.0           |1930.0    |1.0                      |A5                            |0.0       |2022-03-18|\n",
      "|3.0    |BATH BEACH  |01 ONE FAMILY DWELLINGS|1                   |6363.0|22.0 |null    |A9                       |8645 16TH AVENUE  |null            |11214.0 |1.0              |0.0             |1.0        |2058.0          |1492.0           |1930.0    |1.0                      |A9                            |875000.0  |2022-01-07|\n",
      "|3.0    |BATH BEACH  |01 ONE FAMILY DWELLINGS|1                   |6363.0|48.0 |null    |A9                       |12 BAY 13TH ST    |null            |11214.0 |1.0              |0.0             |1.0        |3142.0          |3200.0           |1999.0    |1.0                      |A9                            |0.0       |2022-03-14|\n",
      "|3.0    |BATH BEACH  |01 ONE FAMILY DWELLINGS|1                   |6363.0|62.0 |null    |A9                       |44 BAY 13TH STREET|null            |11214.0 |1.0              |0.0             |1.0        |3575.0          |2104.0           |1901.0    |1.0                      |A9                            |990000.0  |2022-10-18|\n",
      "+-------+------------+-----------------------+--------------------+------+-----+--------+-------------------------+------------------+----------------+--------+-----------------+----------------+-----------+----------------+-----------------+----------+-------------------------+------------------------------+----------+----------+\n",
      "only showing top 5 rows\n",
      "\n"
     ]
    }
   ],
   "source": [
    "df = spark.read.csv(\"hdfs://namenode:8020/data/bronze/2022/2022_brooklyn.csv\", header=True, inferSchema=True)\n",
    "\n",
    "\n",
    "df.show(5, truncate=False, vertical=False)"
   ]
  },
  {
   "cell_type": "code",
   "execution_count": null,
   "id": "9022ab5d",
   "metadata": {},
   "outputs": [],
   "source": []
  }
 ],
 "metadata": {
  "kernelspec": {
   "display_name": "Python 3",
   "language": "python",
   "name": "python3"
  },
  "language_info": {
   "codemirror_mode": {
    "name": "ipython",
    "version": 3
   },
   "file_extension": ".py",
   "mimetype": "text/x-python",
   "name": "python",
   "nbconvert_exporter": "python",
   "pygments_lexer": "ipython3",
   "version": "3.9.4"
  }
 },
 "nbformat": 4,
 "nbformat_minor": 5
}
