{
 "cells": [
  {
   "cell_type": "code",
   "execution_count": 1,
   "id": "cc3ebc02",
   "metadata": {},
   "outputs": [],
   "source": [
    "from pyspark.sql import SparkSession\n",
    "from pyspark.sql.functions import *"
   ]
  },
  {
   "cell_type": "code",
   "execution_count": 4,
   "id": "8aa09e01",
   "metadata": {},
   "outputs": [],
   "source": [
    "spark = SparkSession.builder\\\n",
    "         .appName(\"ExplorationAndPrepration\")\\\n",
    "         .master(\"spark://spark-master:7077\")\\\n",
    "         .getOrCreate()"
   ]
  },
  {
   "cell_type": "code",
   "execution_count": 6,
   "id": "7816700e",
   "metadata": {},
   "outputs": [],
   "source": [
    "from pyspark.sql.types import StructType, StructField, StringType, IntegerType, DoubleType, DateType\n",
    "\n",
    "schema = StructType([\n",
    "    StructField(\"borough\", StringType(), True),\n",
    "    StructField(\"neighborhood\", StringType(), True),\n",
    "    StructField(\"building_class_category\", StringType(), True),\n",
    "    StructField(\"tax_class_at_present\", StringType(), True),\n",
    "    StructField(\"block\", IntegerType(), True),\n",
    "    StructField(\"lot\", IntegerType(), True),\n",
    "    StructField(\"ease_ment\", StringType(), True),\n",
    "    StructField(\"building_class_at_present\", StringType(), True),\n",
    "    StructField(\"address\", StringType(), True),\n",
    "    StructField(\"apartment_number\", StringType(), True),\n",
    "    StructField(\"zip_code\", IntegerType(), True),\n",
    "    StructField(\"residential_units\", IntegerType(), True),\n",
    "    StructField(\"commercial_units\", IntegerType(), True),\n",
    "    StructField(\"total_units\", IntegerType(), True),\n",
    "    StructField(\"land_square_feet\", StringType(), True),  # will clean later\n",
    "    StructField(\"gross_square_feet\", StringType(), True),\n",
    "    StructField(\"year_built\", IntegerType(), True),\n",
    "    StructField(\"tax_class_at_time_of_sale\", StringType(), True),\n",
    "    StructField(\"building_class_at_time_of_sale\", StringType(), True),\n",
    "    StructField(\"sale_price\", StringType(), True),         # will convert to numeric\n",
    "    StructField(\"sale_date\", StringType(), True)           # will parse to date\n",
    "])\n"
   ]
  },
  {
   "cell_type": "code",
   "execution_count": 7,
   "id": "a92ea15e",
   "metadata": {},
   "outputs": [],
   "source": [
    "df = spark.read.csv(\"hdfs://namenode:8020/data/bronze/*\",header = True,schema = schema)"
   ]
  },
  {
   "cell_type": "code",
   "execution_count": 8,
   "id": "24718866",
   "metadata": {},
   "outputs": [
    {
     "name": "stdout",
     "output_type": "stream",
     "text": [
      "+-------+------------------+-----------------------+--------------------+-----+----+---------+-------------------------+-----------------+----------------+--------+-----------------+----------------+-----------+----------------+-----------------+----------+-------------------------+------------------------------+----------+----------+\n",
      "|borough|      neighborhood|building_class_category|tax_class_at_present|block| lot|ease_ment|building_class_at_present|          address|apartment_number|zip_code|residential_units|commercial_units|total_units|land_square_feet|gross_square_feet|year_built|tax_class_at_time_of_sale|building_class_at_time_of_sale|sale_price| sale_date|\n",
      "+-------+------------------+-----------------------+--------------------+-----+----+---------+-------------------------+-----------------+----------------+--------+-----------------+----------------+-----------+----------------+-----------------+----------+-------------------------+------------------------------+----------+----------+\n",
      "|    4.0|AIRPORT LA GUARDIA|   01 ONE FAMILY DWE...|                   1| null|null|     null|                       A5|19-48 81ST STREET|            null|    null|             null|            null|       null|          1799.0|           1224.0|      null|                      1.0|                            A5|  864195.0|2022-07-15|\n",
      "|    4.0|AIRPORT LA GUARDIA|   01 ONE FAMILY DWE...|                   1| null|null|     null|                       A5|19-54 81ST STREET|            null|    null|             null|            null|       null|          1799.0|           1224.0|      null|                      1.0|                            A5|  815000.0|2022-06-24|\n",
      "|    4.0|AIRPORT LA GUARDIA|   01 ONE FAMILY DWE...|                   1| null|null|     null|                       A5|21-33 80TH STREET|            null|    null|             null|            null|       null|          1799.0|           1224.0|      null|                      1.0|                            A5|  830000.0|2022-09-23|\n",
      "|    4.0|AIRPORT LA GUARDIA|   01 ONE FAMILY DWE...|                   1| null|null|     null|                       A5|21-23 80TH STREET|            null|    null|             null|            null|       null|          1800.0|           1224.0|      null|                      1.0|                            A5|  900000.0|2022-02-08|\n",
      "|    4.0|AIRPORT LA GUARDIA|   03 THREE FAMILY D...|                   1| null|null|     null|                       C0|19-69 80TH STREET|            null|    null|             null|            null|       null|          2000.0|           2835.0|      null|                      1.0|                            C0|       0.0|2022-03-08|\n",
      "+-------+------------------+-----------------------+--------------------+-----+----+---------+-------------------------+-----------------+----------------+--------+-----------------+----------------+-----------+----------------+-----------------+----------+-------------------------+------------------------------+----------+----------+\n",
      "only showing top 5 rows\n",
      "\n"
     ]
    }
   ],
   "source": [
    "df.show(5)"
   ]
  },
  {
   "cell_type": "code",
   "execution_count": null,
   "id": "d3974c71",
   "metadata": {},
   "outputs": [],
   "source": []
  }
 ],
 "metadata": {
  "kernelspec": {
   "display_name": "Python 3",
   "language": "python",
   "name": "python3"
  },
  "language_info": {
   "codemirror_mode": {
    "name": "ipython",
    "version": 3
   },
   "file_extension": ".py",
   "mimetype": "text/x-python",
   "name": "python",
   "nbconvert_exporter": "python",
   "pygments_lexer": "ipython3",
   "version": "3.9.4"
  }
 },
 "nbformat": 4,
 "nbformat_minor": 5
}
